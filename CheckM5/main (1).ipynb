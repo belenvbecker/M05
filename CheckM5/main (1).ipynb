{
 "cells": [
  {
   "cell_type": "code",
   "execution_count": 1,
   "metadata": {},
   "outputs": [],
   "source": [
    "from pyspark.sql import SparkSession\n",
    "\n",
    "# Crear una sesión de Spark\n",
    "spark = SparkSession.builder \\\n",
    "    .appName(\"MiAplicacionSpark\") \\\n",
    "    .getOrCreate()"
   ]
  },
  {
   "cell_type": "markdown",
   "metadata": {},
   "source": [
    "11) ¿Cuánto se debió haber facturado por las ventas de los productos SKUB06?"
   ]
  },
  {
   "cell_type": "code",
   "execution_count": 40,
   "metadata": {},
   "outputs": [],
   "source": [
    "df2 = spark.read.csv(r'pedidos.csv',  header=True, \n",
    "                     inferSchema=True,\n",
    "                     sep=';',\n",
    "                     encoding='latin1')"
   ]
  },
  {
   "cell_type": "code",
   "execution_count": 41,
   "metadata": {},
   "outputs": [
    {
     "name": "stdout",
     "output_type": "stream",
     "text": [
      "+-----------------------------+------+----------------------+------------------+--------+------------------+--------------+-------------+--------------+----------------+---------+------------+-----------+\n",
      "|Número de Pedido - Tip Compra|   SKU|Categoría de Descuento|   Precio de Venta|Unidades|Costo del Producto|Costo de Envio|Costo Empaque|Fecha de Envio|Fecha de Llegada|     País|      Ciudad|Codigo País|\n",
      "+-----------------------------+------+----------------------+------------------+--------+------------------+--------------+-------------+--------------+----------------+---------+------------+-----------+\n",
      "|               98094262Normal|CB01-5|                   Non| 666.0899999999999|       3|                 8|             6|            3|         36508|           36527|VENezuela|     Caracas|         VE|\n",
      "|               98094261Normal|CC01-2|                   Non|            105.06|       2|              8,55|          4,55|            2|         36509|           36529| PARaguay|    Asunción|         PA|\n",
      "|               98094260Normal| L01-5|                   Non|              61.5|       2|              8,25|          3,25|            2|         36510|           36529|     PERú|        Lima|         PE|\n",
      "|               98094258Normal|CB01-2|                   Non|222.02999999999997|       1|              7,99|          4,99|            3|         36511|           36528| PARaguay|    Asunción|         PA|\n",
      "|           98094259Devolución|CB01-2|                   Non| 666.0899999999999|       3|              5,61|          5,61|            2|         36511|           36529| PARaguay|    Asunción|         PA|\n",
      "|               98094257Normal|CC02-1|                   Non|             80.16|       3|              9,99|          3,99|            3|         36512|           36528|  URUguay|  Montevideo|         UR|\n",
      "|               98094256Normal| L01-5|                   Non|             30.75|       1|              5,14|          6,14|            3|         36512|           36528|  URUguay|  Montevideo|         UR|\n",
      "|               98094255Normal|CB01-3|                   Non| 666.0899999999999|       3|              7,14|          4,14|            2|         36513|           36533|ARGentina|     Rosario|         AR|\n",
      "|               98094253Normal| L01-4|                   Non|              61.5|       2|              8,58|          3,58|            2|         36514|           36533|  ECUador|       Quito|         EC|\n",
      "|               98094254Normal| L02-1|                   Non|120.60000000000001|       3|              9,55|          5,55|            2|         36514|           36529|VENezuela|     Caracas|         VE|\n",
      "|               98094250Normal|CC01-4|                   Non|            105.06|       2|              7,68|          3,68|            2|         36515|           36531|  URUguay|  Montevideo|         UR|\n",
      "|               98094251Normal|CC01-7|                   Non|             52.53|       1|              8,99|          5,99|            1|         36515|           36526|    CHIle|Viña del Mar|         CH|\n",
      "|           98094252Devolución|CC02-7|                   Non|             53.44|       2|                 7|             5|            2|         36515|           36531|VENezuela|     Caracas|         VE|\n",
      "|               98094244Normal| B06-1|                   Non|             50.36|       1|                 7|             5|            1|         36516|           36530|   BRAsil|         Rio|         BR|\n",
      "|           98094247Devolución|CC01-3|                   Non|             52.53|       1|               8,1|           6,1|            2|         36516|           36526|   BRAsil|         Rio|         BR|\n",
      "|               98094248Normal|CC02-3|                   Non|             53.44|       2|                 7|             3|            3|         36516|           36529|  URUguay|  Montevideo|         UR|\n",
      "|           98094249Devolución|CC02-6|                   Non|             80.16|       3|              5,58|          5,58|            2|         36516|           36534| COLombia|    Medellín|         CO|\n",
      "|               98094246Normal| L03-7|          Black Friday|            44.985|       2|              7,99|          4,99|            2|         36516|           36531| PARaguay|    Asunción|         PA|\n",
      "|               98094245Normal| L07-5|          Cyber Monday|            60.624|       2|                 5|             4|            2|         36516|           36536|    CHIle|Viña del Mar|         CH|\n",
      "|               98094243Normal|CB01-6|                   Non|444.05999999999995|       2|                 7|             4|            3|         36517|           36529| COLombia|    Medellín|         CO|\n",
      "+-----------------------------+------+----------------------+------------------+--------+------------------+--------------+-------------+--------------+----------------+---------+------------+-----------+\n",
      "only showing top 20 rows\n",
      "\n"
     ]
    }
   ],
   "source": [
    "df2.show()"
   ]
  },
  {
   "cell_type": "code",
   "execution_count": 52,
   "metadata": {},
   "outputs": [],
   "source": [
    "from pyspark.sql.functions import regexp_replace\n",
    "\n",
    "df2 = df2.withColumn('Costo de Envio', regexp_replace('Costo de Envio', ',', '.'))\n",
    "df2 = df2.withColumn('Costo del Producto', regexp_replace('Costo del Producto', ',', '.'))"
   ]
  },
  {
   "cell_type": "code",
   "execution_count": 53,
   "metadata": {},
   "outputs": [
    {
     "name": "stdout",
     "output_type": "stream",
     "text": [
      "root\n",
      " |-- Número de Pedido - Tip Compra: string (nullable = true)\n",
      " |-- SKU: string (nullable = true)\n",
      " |-- Categoría de Descuento: string (nullable = true)\n",
      " |-- Precio de Venta: double (nullable = true)\n",
      " |-- Unidades: integer (nullable = true)\n",
      " |-- Costo del Producto: string (nullable = true)\n",
      " |-- Costo de Envio: string (nullable = true)\n",
      " |-- Costo Empaque: integer (nullable = true)\n",
      " |-- Fecha de Envio: integer (nullable = true)\n",
      " |-- Fecha de Llegada: integer (nullable = true)\n",
      " |-- País: string (nullable = true)\n",
      " |-- Ciudad: string (nullable = true)\n",
      " |-- Codigo País: string (nullable = true)\n",
      "\n"
     ]
    }
   ],
   "source": [
    "df2.createOrReplaceTempView(\"venta\")\n",
    "df2.printSchema()\n"
   ]
  },
  {
   "cell_type": "code",
   "execution_count": 54,
   "metadata": {},
   "outputs": [
    {
     "name": "stdout",
     "output_type": "stream",
     "text": [
      "+------------------+\n",
      "|             total|\n",
      "+------------------+\n",
      "|104711.03000000033|\n",
      "+------------------+\n",
      "\n"
     ]
    }
   ],
   "source": [
    "result = spark.sql(\"\"\"\n",
    "                SELECT\n",
    "                SUM(`Precio de venta` * `Unidades`) as total\n",
    "                FROM venta\n",
    "                WHERE SKU LIKE 'B06%' \"\"\")\n",
    "result.show()\n",
    "\n"
   ]
  },
  {
   "cell_type": "markdown",
   "metadata": {},
   "source": [
    "12) ¿Hay algún pedido que tenga utilidad negativa? *"
   ]
  },
  {
   "cell_type": "code",
   "execution_count": 64,
   "metadata": {},
   "outputs": [
    {
     "name": "stdout",
     "output_type": "stream",
     "text": [
      "+---------------------------------------------------------------------------+\n",
      "|(Precio de Venta - ((Costo del Producto + Costo de Envio) + Costo Empaque))|\n",
      "+---------------------------------------------------------------------------+\n",
      "|                                                        -0.8520000000000003|\n",
      "|                                                       -0.41499999999999915|\n",
      "|                                                        -0.2920000000000016|\n",
      "|                                                        0.36799999999999855|\n",
      "|                                                         0.3879999999999981|\n",
      "|                                                         0.9279999999999973|\n",
      "|                                                                     1.1875|\n",
      "|                                                         1.3679999999999986|\n",
      "|                                                         1.3679999999999986|\n",
      "|                                                         1.4679999999999982|\n",
      "|                                                         1.5760000000000005|\n",
      "|                                                          1.607999999999997|\n",
      "|                                                          1.647999999999998|\n",
      "|                                                         1.6799999999999997|\n",
      "|                                                         1.6799999999999997|\n",
      "|                                                         1.6879999999999988|\n",
      "|                                                         1.7675000000000018|\n",
      "|                                                         1.9875000000000007|\n",
      "|                                                                      2.128|\n",
      "|                                                         2.1935000000000002|\n",
      "+---------------------------------------------------------------------------+\n",
      "only showing top 20 rows\n",
      "\n"
     ]
    }
   ],
   "source": [
    "result = spark.sql(\"\"\"\n",
    "                SELECT\n",
    "                `Precio de Venta`- (`Costo del Producto`+`Costo de Envio`+`Costo Empaque`)\n",
    "                from venta\n",
    "                order by 1\n",
    "                 \"\"\")\n",
    "result.show()"
   ]
  },
  {
   "cell_type": "markdown",
   "metadata": {},
   "source": [
    "13) Calcule la cantidad de unidades promedio de los pedidos cuya categoría de\n",
    "descuento fue Cyber Monda"
   ]
  },
  {
   "cell_type": "code",
   "execution_count": 65,
   "metadata": {},
   "outputs": [
    {
     "name": "stdout",
     "output_type": "stream",
     "text": [
      "+------------------+\n",
      "|     avg(Unidades)|\n",
      "+------------------+\n",
      "|1.9745738225946259|\n",
      "+------------------+\n",
      "\n"
     ]
    }
   ],
   "source": [
    "result = spark.sql(\"\"\"\n",
    "                SELECT\n",
    "                avg(`Unidades`)\n",
    "                from venta\n",
    "                where `Categoría de Descuento` = 'Cyber Monday'\n",
    "    \n",
    "                 \"\"\")\n",
    "result.show()"
   ]
  },
  {
   "cell_type": "markdown",
   "metadata": {},
   "source": [
    "14) ¿Cuántos pedidos se realizaron en Argentina? *"
   ]
  },
  {
   "cell_type": "code",
   "execution_count": 68,
   "metadata": {},
   "outputs": [
    {
     "name": "stdout",
     "output_type": "stream",
     "text": [
      "+--------+\n",
      "|count(1)|\n",
      "+--------+\n",
      "|    2848|\n",
      "+--------+\n",
      "\n"
     ]
    }
   ],
   "source": [
    "spark.sql(\"\"\"\n",
    "          SELECT DISTINCT count(*) FROM `venta` as v\n",
    "          WHERE v.`Codigo País` = \"AR\";\n",
    "          \"\"\").show()"
   ]
  }
 ],
 "metadata": {
  "kernelspec": {
   "display_name": "Python 3.10.11 64-bit (microsoft store)",
   "language": "python",
   "name": "python3"
  },
  "language_info": {
   "codemirror_mode": {
    "name": "ipython",
    "version": 3
   },
   "file_extension": ".py",
   "mimetype": "text/x-python",
   "name": "python",
   "nbconvert_exporter": "python",
   "pygments_lexer": "ipython3",
   "version": "3.11.1"
  },
  "orig_nbformat": 4,
  "vscode": {
   "interpreter": {
    "hash": "23f823caeccb1684f6bd50492b68bb5eab208de0408f39b2457c6a38c0e8e818"
   }
  }
 },
 "nbformat": 4,
 "nbformat_minor": 2
}
