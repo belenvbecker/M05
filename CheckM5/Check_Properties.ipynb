{
 "cells": [
  {
   "cell_type": "markdown",
   "metadata": {},
   "source": [
    "1.\tDespués de inspeccionar la base de datos, ¿Cuál variable (atributo) no aporta suficiente claridad para este estudio?\n",
    "\n",
    " 1) ciudad\n",
    " 2) property_type  <-------- Respuesta\n",
    " 3) price_USD"
   ]
  },
  {
   "cell_type": "markdown",
   "metadata": {},
   "source": [
    "2.\tEl equipo directivo quiere conocer si hay alguna correlación entre la cantidad superficie total en metros cuadrados y el precio en dólares. ¿Cuál de las siguientes opciones es la más adecuada?\n",
    "\n",
    " 1) Boxplot\n",
    " 2) Scatter chart  <--------- Respuesta\n",
    " 3) Line Chart\n",
    " 4) Pie Chart"
   ]
  },
  {
   "cell_type": "markdown",
   "metadata": {},
   "source": [
    "3. A nivel general, ¿en qué Ciudad se encuentra la propiedad con el mayor valor por metro cuadrado?\n",
    "\n",
    " 1) Bogotá D.C  <------------- Respuesta\n",
    " 2) Palermo\n",
    " 3) Cali"
   ]
  },
  {
   "cell_type": "code",
   "execution_count": 1,
   "metadata": {},
   "outputs": [],
   "source": [
    "import pandas as pd\n",
    "\n",
    "Propiedades = pd.read_csv('C:\\\\Users\\\\belen\\\\OneDrive\\\\Escritorio\\\\Data Science - Henry\\\\M05\\\\CheckM5\\\\properties.csv')"
   ]
  },
  {
   "cell_type": "code",
   "execution_count": 8,
   "metadata": {},
   "outputs": [
    {
     "name": "stdout",
     "output_type": "stream",
     "text": [
      "<class 'pandas.core.frame.DataFrame'>\n",
      "RangeIndex: 25660 entries, 0 to 25659\n",
      "Data columns (total 9 columns):\n",
      " #   Column                  Non-Null Count  Dtype  \n",
      "---  ------                  --------------  -----  \n",
      " 0   pais                    25660 non-null  object \n",
      " 1   provincia_departamento  25660 non-null  object \n",
      " 2   ciudad                  25660 non-null  object \n",
      " 3   property_type           25660 non-null  object \n",
      " 4   rooms                   25660 non-null  float64\n",
      " 5   bedrooms                25660 non-null  float64\n",
      " 6   bathrooms               25660 non-null  float64\n",
      " 7   surface_total           25660 non-null  float64\n",
      " 8   price_USD               25660 non-null  float64\n",
      "dtypes: float64(5), object(4)\n",
      "memory usage: 1.8+ MB\n"
     ]
    }
   ],
   "source": [
    "Propiedades.info()"
   ]
  },
  {
   "cell_type": "code",
   "execution_count": 9,
   "metadata": {},
   "outputs": [],
   "source": [
    "Propiedades['Valor_por_Metro_Cuadrado'] = Propiedades['price_USD'] / Propiedades['surface_total']"
   ]
  },
  {
   "cell_type": "code",
   "execution_count": 12,
   "metadata": {},
   "outputs": [
    {
     "data": {
      "text/html": [
       "<div>\n",
       "<style scoped>\n",
       "    .dataframe tbody tr th:only-of-type {\n",
       "        vertical-align: middle;\n",
       "    }\n",
       "\n",
       "    .dataframe tbody tr th {\n",
       "        vertical-align: top;\n",
       "    }\n",
       "\n",
       "    .dataframe thead th {\n",
       "        text-align: right;\n",
       "    }\n",
       "</style>\n",
       "<table border=\"1\" class=\"dataframe\">\n",
       "  <thead>\n",
       "    <tr style=\"text-align: right;\">\n",
       "      <th></th>\n",
       "      <th>pais</th>\n",
       "      <th>provincia_departamento</th>\n",
       "      <th>ciudad</th>\n",
       "      <th>property_type</th>\n",
       "      <th>rooms</th>\n",
       "      <th>bedrooms</th>\n",
       "      <th>bathrooms</th>\n",
       "      <th>surface_total</th>\n",
       "      <th>price_USD</th>\n",
       "      <th>Valor_por_Metro_Cuadrado</th>\n",
       "    </tr>\n",
       "  </thead>\n",
       "  <tbody>\n",
       "    <tr>\n",
       "      <th>12408</th>\n",
       "      <td>Colombia</td>\n",
       "      <td>Cundinamarca</td>\n",
       "      <td>Bogotá D.C</td>\n",
       "      <td>Apartamento</td>\n",
       "      <td>3.0</td>\n",
       "      <td>3.0</td>\n",
       "      <td>3.0</td>\n",
       "      <td>10.0</td>\n",
       "      <td>632976.0</td>\n",
       "      <td>63297.6</td>\n",
       "    </tr>\n",
       "  </tbody>\n",
       "</table>\n",
       "</div>"
      ],
      "text/plain": [
       "           pais provincia_departamento      ciudad property_type  rooms  \\\n",
       "12408  Colombia           Cundinamarca  Bogotá D.C   Apartamento    3.0   \n",
       "\n",
       "       bedrooms  bathrooms  surface_total  price_USD  Valor_por_Metro_Cuadrado  \n",
       "12408       3.0        3.0           10.0   632976.0                   63297.6  "
      ]
     },
     "execution_count": 12,
     "metadata": {},
     "output_type": "execute_result"
    }
   ],
   "source": [
    "Propiedades[Propiedades['Valor_por_Metro_Cuadrado'] == Propiedades['Valor_por_Metro_Cuadrado'].max()]"
   ]
  },
  {
   "cell_type": "markdown",
   "metadata": {},
   "source": [
    "4. ¿Cuál es el valor por metro cuadrado de la propiedad encontrada en el punto anterior? Aproxime al entero más cercano.\n",
    "\n",
    " 1) 63298 <----------- Respuesta\n",
    " 2) 2466\n",
    " 3) 5300"
   ]
  },
  {
   "cell_type": "code",
   "execution_count": 13,
   "metadata": {},
   "outputs": [
    {
     "data": {
      "text/html": [
       "<div>\n",
       "<style scoped>\n",
       "    .dataframe tbody tr th:only-of-type {\n",
       "        vertical-align: middle;\n",
       "    }\n",
       "\n",
       "    .dataframe tbody tr th {\n",
       "        vertical-align: top;\n",
       "    }\n",
       "\n",
       "    .dataframe thead th {\n",
       "        text-align: right;\n",
       "    }\n",
       "</style>\n",
       "<table border=\"1\" class=\"dataframe\">\n",
       "  <thead>\n",
       "    <tr style=\"text-align: right;\">\n",
       "      <th></th>\n",
       "      <th>pais</th>\n",
       "      <th>provincia_departamento</th>\n",
       "      <th>ciudad</th>\n",
       "      <th>property_type</th>\n",
       "      <th>rooms</th>\n",
       "      <th>bedrooms</th>\n",
       "      <th>bathrooms</th>\n",
       "      <th>surface_total</th>\n",
       "      <th>price_USD</th>\n",
       "      <th>Valor_por_Metro_Cuadrado</th>\n",
       "    </tr>\n",
       "  </thead>\n",
       "  <tbody>\n",
       "    <tr>\n",
       "      <th>12408</th>\n",
       "      <td>Colombia</td>\n",
       "      <td>Cundinamarca</td>\n",
       "      <td>Bogotá D.C</td>\n",
       "      <td>Apartamento</td>\n",
       "      <td>3.0</td>\n",
       "      <td>3.0</td>\n",
       "      <td>3.0</td>\n",
       "      <td>10.0</td>\n",
       "      <td>632976.0</td>\n",
       "      <td>63297.6</td>\n",
       "    </tr>\n",
       "  </tbody>\n",
       "</table>\n",
       "</div>"
      ],
      "text/plain": [
       "           pais provincia_departamento      ciudad property_type  rooms  \\\n",
       "12408  Colombia           Cundinamarca  Bogotá D.C   Apartamento    3.0   \n",
       "\n",
       "       bedrooms  bathrooms  surface_total  price_USD  Valor_por_Metro_Cuadrado  \n",
       "12408       3.0        3.0           10.0   632976.0                   63297.6  "
      ]
     },
     "execution_count": 13,
     "metadata": {},
     "output_type": "execute_result"
    }
   ],
   "source": [
    "Propiedades[Propiedades['Valor_por_Metro_Cuadrado'] == Propiedades['Valor_por_Metro_Cuadrado'].max()]"
   ]
  },
  {
   "cell_type": "markdown",
   "metadata": {},
   "source": [
    "5. El cliente está interesado en conocer cómo varía el valor por metro cuadrado de acuerdo con las diferentes provincias en el caso de Argentina y a los departamentos en el caso de Colombia. Para lograr este objetivo desea crear un top 5 de las provincias con los valores por metro cuadrado más costosos. Se indica una serie de pasos a continuación (de una forma de hacerlo, podrían existir muchas más)\n",
    "\n",
    "    a. Se realiza un filtro avanzado sobre el objeto visual con el Top N teniendo en cuenta el valor de la columna calculada. \n",
    "    b. Se crea una columna calculada utilizando las columnas price_USD y surface_total.\n",
    "    c. Se crea un diagrama de barras. En el eje X ubicamos el promedio de la columna calculada y en el eje Y, provincia_departamento.\n",
    "    d. Se realiza un filtro de página, una vez se tiene la visualización para mostrar lo referente a Argentina. \n",
    "\n",
    "    ¿Cuál es el orden correcto?\n",
    "\n",
    " 1) b, c, a, d  <------------- Respuesta\n",
    " 2) a, b, c, d\n",
    " 3) b, a, c, d"
   ]
  },
  {
   "cell_type": "markdown",
   "metadata": {},
   "source": [
    "6. De acuerdo con el gráfico anterior, ¿Cuál es el Departamento en Colombia que tiene el mayor valor promedio de precio por metro cuadrado?\n",
    "\n",
    " 1) Valle del Cauca <------------ Respuesta\n",
    " 2) Cundinamarca  \n",
    " 3) Bolívar"
   ]
  },
  {
   "cell_type": "markdown",
   "metadata": {},
   "source": [
    "7. Supongamos que se quiere crear un modelo relacional y se tiene una Tabla Clientes adicional que contiene datos referentes a las personas que compraron la vivienda, tales como la edad, la profesión, entre otros. La tabla Clientes contiene un campo llamado IdCliente. Si se subiera el archivo, ¿Power BI detecta la relación con la Tabla properties automáticamente?\n",
    "\n",
    " 1) Sí\n",
    " 2) No   <---------- Respuesta"
   ]
  },
  {
   "cell_type": "markdown",
   "metadata": {},
   "source": [
    "8. El equipo directivo considera realizar un modelo en cual se ingresen algunas variables del modelo para una vivienda nueva (que no esté en la base de datos) y determinar el valor en USD del inmueble. Este tipo de estudio es...\n",
    "\n",
    " 1) Descriptivo\n",
    " 2) Dashboard Interactivo\n",
    " 3) Predictivo  <-------------Respuesta\n",
    " 4) Prescriptivo"
   ]
  },
  {
   "cell_type": "markdown",
   "metadata": {},
   "source": [
    "9. Si se agrega un Calendar en PowerQuery para saber la fecha en la cual se está vendiendo el inmueble. ¿Esta fórmula contiene un error? \n",
    "### Calendario = CALENDAR(MAX(Ventas[Fecha]),MIN(Ventas[Fecha]))\n",
    "\n",
    " 1) Sí\n",
    " 2) No  <------------ Respuesta"
   ]
  },
  {
   "cell_type": "markdown",
   "metadata": {},
   "source": [
    "10. Y respecto a la siguiente fórmula, ¿posee un error?\n",
    "### Calendario = CALENDAR(MIN([Fecha]),MAX(Ventas[Fecha]))\n",
    "\n",
    "1. Sí <-------- Respuesta\n",
    "2. No"
   ]
  },
  {
   "cell_type": "markdown",
   "metadata": {},
   "source": [
    "11. ¿Cuál es la cantidad de propiedades que tienen un precio mayor a 100000 USD en Argentina? \n",
    "\n",
    " 1) 9397  <----------- Respuesta\n",
    " 2) 13258\n",
    " 3) 0"
   ]
  },
  {
   "cell_type": "code",
   "execution_count": 23,
   "metadata": {},
   "outputs": [],
   "source": [
    "propiedades_argentinas = Propiedades[(Propiedades['pais'] == 'Argentina') & (Propiedades['price_USD'] > 100000)]\n"
   ]
  },
  {
   "cell_type": "code",
   "execution_count": 24,
   "metadata": {},
   "outputs": [
    {
     "data": {
      "text/plain": [
       "9397"
      ]
     },
     "execution_count": 24,
     "metadata": {},
     "output_type": "execute_result"
    }
   ],
   "source": [
    "len(propiedades_argentinas)"
   ]
  },
  {
   "cell_type": "markdown",
   "metadata": {},
   "source": [
    "12. El equipo de Marketing está interesado en conectarse a una API que contiene un ranking de viviendas para mejorar el modelo que están realizando. ¿Cómo se especifica la consulta a realizar a una API para extraer un determinado conjunto de datos de interés?\n",
    "\n",
    " 1) Se debe solicitar todo el código HTML, y luego implementar un código para extraer los datos de interés.\n",
    " 2) Se debe especificar un diccionario estándar con las variables, fechas y cantidad de datos a extraer.\n",
    " 3) Se debe especificar una lista de las variables a extraer.\n",
    " 4) Se debe consultar la documentación de la API para identificar exactamente cómo plantear la query, ya sea mediante un texto de consulta, o un diccionario de parámetros.  <------------ Respuesta"
   ]
  },
  {
   "cell_type": "markdown",
   "metadata": {},
   "source": [
    "13. Para construir el siguiente gráfico ¿se utilizó la siguiente línea de código?\n",
    "### sns.histplot(data=df,x='price_USD_m2',hue='pais',ax=ax,kde=True);\n",
    "\n",
    "<img src='imagenes/histplot.jpg'>\n",
    "\n",
    " 1) Sí\n",
    " 2) No  <------------ Respuesta"
   ]
  },
  {
   "cell_type": "code",
   "execution_count": 26,
   "metadata": {},
   "outputs": [],
   "source": [
    "import seaborn as sns\n",
    "import matplotlib.pyplot as plt\n",
    "\n"
   ]
  },
  {
   "cell_type": "code",
   "execution_count": 28,
   "metadata": {},
   "outputs": [
    {
     "data": {
      "image/png": "[encoded data removed]",
      "text/plain": [
       "<Figure size 640x480 with 1 Axes>"
      ]
     },
     "metadata": {},
     "output_type": "display_data"
    }
   ],
   "source": [
    "fig, ax = plt.subplots()\n",
    "sns.histplot(data=Propiedades,x='price_USD',hue='pais',ax=ax,kde=True)\n",
    "plt.show()"
   ]
  },
  {
   "cell_type": "markdown",
   "metadata": {},
   "source": [
    "14. Observe el siguiente gráfico. \n",
    "\n",
    "<img src='imagenes/boxplot.jpg'>\n",
    "\n",
    "### Un colega observa esta visualización y afirma que “Sobre todo en Argentina, el precio_USD_M2 tiende a aumentar con el número de baños” ¿Esto es correcto?\n",
    "\n",
    " 1) Sí  <-----------Respuesta\n",
    " 2) No"
   ]
  },
  {
   "cell_type": "markdown",
   "metadata": {},
   "source": [
    "15. Otro colega afirma: “Dado que la relación es distinta entre países entre precio y superficie total. El país es una variable categórica irrelevante a considerar en un modelo predictivo” ¿Esta afirmación es correcta?\n",
    "\n",
    " 1) Sí\n",
    " 2) No   <-----------Respuesta"
   ]
  },
  {
   "cell_type": "markdown",
   "metadata": {},
   "source": [
    "16. Hay algunos precios que pueden clasificarse como Outiliers, ¿Cuál de las siguientes es una mala opción para detectar mediante una visualización que hay outliers?\n",
    "\n",
    " 1) Boxplot\n",
    " 2) Pairplot\n",
    " 3) Hisplot\n",
    " 4) Pie  <---------- Respuesta"
   ]
  }
 ],
 "metadata": {
  "kernelspec": {
   "display_name": "Python 3",
   "language": "python",
   "name": "python3"
  },
  "language_info": {
   "codemirror_mode": {
    "name": "ipython",
    "version": 3
   },
   "file_extension": ".py",
   "mimetype": "text/x-python",
   "name": "python",
   "nbconvert_exporter": "python",
   "pygments_lexer": "ipython3",
   "version": "3.11.1"
  }
 },
 "nbformat": 4,
 "nbformat_minor": 2
}
