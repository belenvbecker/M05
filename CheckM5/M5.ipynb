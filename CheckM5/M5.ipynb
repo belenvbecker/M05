{
 "cells": [
  {
   "cell_type": "code",
   "execution_count": 1,
   "metadata": {},
   "outputs": [
    {
     "data": {
      "text/html": [
       "<div>\n",
       "<style scoped>\n",
       "    .dataframe tbody tr th:only-of-type {\n",
       "        vertical-align: middle;\n",
       "    }\n",
       "\n",
       "    .dataframe tbody tr th {\n",
       "        vertical-align: top;\n",
       "    }\n",
       "\n",
       "    .dataframe thead th {\n",
       "        text-align: right;\n",
       "    }\n",
       "</style>\n",
       "<table border=\"1\" class=\"dataframe\">\n",
       "  <thead>\n",
       "    <tr style=\"text-align: right;\">\n",
       "      <th></th>\n",
       "      <th>pais</th>\n",
       "      <th>provincia_departamento</th>\n",
       "      <th>ciudad</th>\n",
       "      <th>property_type</th>\n",
       "      <th>rooms</th>\n",
       "      <th>bedrooms</th>\n",
       "      <th>bathrooms</th>\n",
       "      <th>surface_total</th>\n",
       "      <th>price_USD</th>\n",
       "    </tr>\n",
       "  </thead>\n",
       "  <tbody>\n",
       "    <tr>\n",
       "      <th>0</th>\n",
       "      <td>Argentina</td>\n",
       "      <td>Capital Federal</td>\n",
       "      <td>Villa Crespo</td>\n",
       "      <td>Departamento</td>\n",
       "      <td>2.0</td>\n",
       "      <td>1.0</td>\n",
       "      <td>1.0</td>\n",
       "      <td>37.0</td>\n",
       "      <td>85000.0</td>\n",
       "    </tr>\n",
       "    <tr>\n",
       "      <th>1</th>\n",
       "      <td>Argentina</td>\n",
       "      <td>Capital Federal</td>\n",
       "      <td>Palermo</td>\n",
       "      <td>Departamento</td>\n",
       "      <td>6.0</td>\n",
       "      <td>4.0</td>\n",
       "      <td>4.0</td>\n",
       "      <td>300.0</td>\n",
       "      <td>1590000.0</td>\n",
       "    </tr>\n",
       "    <tr>\n",
       "      <th>2</th>\n",
       "      <td>Colombia</td>\n",
       "      <td>Atlántico</td>\n",
       "      <td>Barranquilla</td>\n",
       "      <td>Apartamento</td>\n",
       "      <td>3.0</td>\n",
       "      <td>3.0</td>\n",
       "      <td>3.0</td>\n",
       "      <td>95.0</td>\n",
       "      <td>85329.0</td>\n",
       "    </tr>\n",
       "    <tr>\n",
       "      <th>3</th>\n",
       "      <td>Colombia</td>\n",
       "      <td>Valle del Cauca</td>\n",
       "      <td>Cali</td>\n",
       "      <td>Apartamento</td>\n",
       "      <td>3.0</td>\n",
       "      <td>3.0</td>\n",
       "      <td>1.0</td>\n",
       "      <td>60.0</td>\n",
       "      <td>22846.0</td>\n",
       "    </tr>\n",
       "    <tr>\n",
       "      <th>4</th>\n",
       "      <td>Argentina</td>\n",
       "      <td>Capital Federal</td>\n",
       "      <td>Balvanera</td>\n",
       "      <td>Departamento</td>\n",
       "      <td>3.0</td>\n",
       "      <td>2.0</td>\n",
       "      <td>1.0</td>\n",
       "      <td>45.0</td>\n",
       "      <td>80000.0</td>\n",
       "    </tr>\n",
       "    <tr>\n",
       "      <th>...</th>\n",
       "      <td>...</td>\n",
       "      <td>...</td>\n",
       "      <td>...</td>\n",
       "      <td>...</td>\n",
       "      <td>...</td>\n",
       "      <td>...</td>\n",
       "      <td>...</td>\n",
       "      <td>...</td>\n",
       "      <td>...</td>\n",
       "    </tr>\n",
       "    <tr>\n",
       "      <th>25655</th>\n",
       "      <td>Colombia</td>\n",
       "      <td>Antioquia</td>\n",
       "      <td>Bello</td>\n",
       "      <td>Apartamento</td>\n",
       "      <td>3.0</td>\n",
       "      <td>3.0</td>\n",
       "      <td>2.0</td>\n",
       "      <td>61.0</td>\n",
       "      <td>41288.0</td>\n",
       "    </tr>\n",
       "    <tr>\n",
       "      <th>25656</th>\n",
       "      <td>Argentina</td>\n",
       "      <td>Capital Federal</td>\n",
       "      <td>Caballito</td>\n",
       "      <td>Departamento</td>\n",
       "      <td>2.0</td>\n",
       "      <td>1.0</td>\n",
       "      <td>1.0</td>\n",
       "      <td>40.0</td>\n",
       "      <td>85000.0</td>\n",
       "    </tr>\n",
       "    <tr>\n",
       "      <th>25657</th>\n",
       "      <td>Argentina</td>\n",
       "      <td>Capital Federal</td>\n",
       "      <td>Villa del Parque</td>\n",
       "      <td>Departamento</td>\n",
       "      <td>2.0</td>\n",
       "      <td>1.0</td>\n",
       "      <td>1.0</td>\n",
       "      <td>61.0</td>\n",
       "      <td>185700.0</td>\n",
       "    </tr>\n",
       "    <tr>\n",
       "      <th>25658</th>\n",
       "      <td>Argentina</td>\n",
       "      <td>Capital Federal</td>\n",
       "      <td>San Cristobal</td>\n",
       "      <td>Departamento</td>\n",
       "      <td>3.0</td>\n",
       "      <td>2.0</td>\n",
       "      <td>1.0</td>\n",
       "      <td>53.0</td>\n",
       "      <td>120000.0</td>\n",
       "    </tr>\n",
       "    <tr>\n",
       "      <th>25659</th>\n",
       "      <td>Argentina</td>\n",
       "      <td>Buenos Aires Costa Atlántica</td>\n",
       "      <td>Mar del Plata</td>\n",
       "      <td>Departamento</td>\n",
       "      <td>2.0</td>\n",
       "      <td>1.0</td>\n",
       "      <td>1.0</td>\n",
       "      <td>45.0</td>\n",
       "      <td>63000.0</td>\n",
       "    </tr>\n",
       "  </tbody>\n",
       "</table>\n",
       "<p>25660 rows × 9 columns</p>\n",
       "</div>"
      ],
      "text/plain": [
       "            pais        provincia_departamento            ciudad  \\\n",
       "0      Argentina               Capital Federal      Villa Crespo   \n",
       "1      Argentina               Capital Federal           Palermo   \n",
       "2       Colombia                     Atlántico      Barranquilla   \n",
       "3       Colombia               Valle del Cauca              Cali   \n",
       "4      Argentina               Capital Federal         Balvanera   \n",
       "...          ...                           ...               ...   \n",
       "25655   Colombia                     Antioquia             Bello   \n",
       "25656  Argentina               Capital Federal         Caballito   \n",
       "25657  Argentina               Capital Federal  Villa del Parque   \n",
       "25658  Argentina               Capital Federal     San Cristobal   \n",
       "25659  Argentina  Buenos Aires Costa Atlántica     Mar del Plata   \n",
       "\n",
       "      property_type  rooms  bedrooms  bathrooms  surface_total  price_USD  \n",
       "0      Departamento    2.0       1.0        1.0           37.0    85000.0  \n",
       "1      Departamento    6.0       4.0        4.0          300.0  1590000.0  \n",
       "2       Apartamento    3.0       3.0        3.0           95.0    85329.0  \n",
       "3       Apartamento    3.0       3.0        1.0           60.0    22846.0  \n",
       "4      Departamento    3.0       2.0        1.0           45.0    80000.0  \n",
       "...             ...    ...       ...        ...            ...        ...  \n",
       "25655   Apartamento    3.0       3.0        2.0           61.0    41288.0  \n",
       "25656  Departamento    2.0       1.0        1.0           40.0    85000.0  \n",
       "25657  Departamento    2.0       1.0        1.0           61.0   185700.0  \n",
       "25658  Departamento    3.0       2.0        1.0           53.0   120000.0  \n",
       "25659  Departamento    2.0       1.0        1.0           45.0    63000.0  \n",
       "\n",
       "[25660 rows x 9 columns]"
      ]
     },
     "execution_count": 1,
     "metadata": {},
     "output_type": "execute_result"
    }
   ],
   "source": [
    "import pandas as pd\n",
    "\n",
    "# Carga el archivo csv\n",
    "df = pd.read_csv('C:\\\\Users\\\\juana\\\\Desktop\\\\Cursos Python\\\\ChPM5\\\\CP-M5\\\\properties.csv')\n",
    "df\n"
   ]
  },
  {
   "cell_type": "code",
   "execution_count": 2,
   "metadata": {},
   "outputs": [
    {
     "name": "stdout",
     "output_type": "stream",
     "text": [
      "           pais provincia_departamento      ciudad property_type  rooms  \\\n",
      "12408  Colombia           Cundinamarca  Bogotá D.C   Apartamento    3.0   \n",
      "\n",
      "       bedrooms  bathrooms  surface_total  price_USD  price_per_sqm  \n",
      "12408       3.0        3.0           10.0   632976.0        63297.6  \n"
     ]
    }
   ],
   "source": [
    "# 3) Asegúrate de que las columnas 'surface_total' y 'price_USD' son numéricas y no contienen valores nulos o inf\n",
    "df = df[df['surface_total'].notna() & df['price_USD'].notna()]\n",
    "df = df[df['surface_total'] != 0]\n",
    "\n",
    "# Calcula el valor por metro cuadrado\n",
    "df['price_per_sqm'] = df['price_USD'] / df['surface_total']\n",
    "\n",
    "# Encuentra la propiedad con el mayor valor por metro cuadrado\n",
    "max_price_per_sqm_property = df[df['price_per_sqm'] == df['price_per_sqm'].max()]\n",
    "\n",
    "print(max_price_per_sqm_property)\n"
   ]
  },
  {
   "cell_type": "code",
   "execution_count": 3,
   "metadata": {},
   "outputs": [
    {
     "name": "stdout",
     "output_type": "stream",
     "text": [
      "La cantidad de propiedades en Argentina con un precio mayor a 100,000 USD es: 9397\n"
     ]
    }
   ],
   "source": [
    "# Filtra las propiedades en Argentina\n",
    "propiedades_argentina = df[df['pais'] == 'Argentina']\n",
    "\n",
    "# Filtra las propiedades con precio mayor a 100,000 USD\n",
    "propiedades_mayor_a_100k = propiedades_argentina[propiedades_argentina['price_USD'] > 100000]\n",
    "\n",
    "# Calcula la cantidad de propiedades\n",
    "cantidad_propiedades = len(propiedades_mayor_a_100k)\n",
    "\n",
    "print(f\"La cantidad de propiedades en Argentina con un precio mayor a 100,000 USD es: {cantidad_propiedades}\")\n"
   ]
  },
  {
   "cell_type": "code",
   "execution_count": 4,
   "metadata": {},
   "outputs": [],
   "source": [
    "import numpy as np\n",
    "import pandas as pd\n",
    "import matplotlib.pyplot as plt\n",
    "%matplotlib inline\n",
    "\n",
    "import seaborn as sns\n",
    "sns.set()"
   ]
  },
  {
   "cell_type": "code",
   "execution_count": 5,
   "metadata": {},
   "outputs": [
    {
     "data": {
      "image/png": "[encoded data removed]",
      "text/plain": [
       "<Figure size 640x480 with 1 Axes>"
      ]
     },
     "metadata": {},
     "output_type": "display_data"
    }
   ],
   "source": [
    "\n",
    "# Crear un objeto de ejes de Matplotlib\n",
    "fig, ax = plt.subplots()\n",
    "\n",
    "# Usar Seaborn para crear un gráfico de histograma con la columna 'price_USD'\n",
    "sns.histplot(data=df, x='price_USD', hue='pais', ax=ax, kde=True)\n",
    "#sns.histplot(data=df,x='price_USD_m2',hue='pais',ax=ax,kde=True)\n",
    "\n",
    "# Personalizar el gráfico, agregar títulos, etiquetas, etc., si es necesario\n",
    "ax.set_title('Histograma de Precios en USD por País')\n",
    "ax.set_xlabel('Precio en USD')\n",
    "ax.set_ylabel('Frecuencia')\n",
    "\n",
    "# Mostrar el gráfico\n",
    "plt.show()\n"
   ]
  },
  {
   "cell_type": "code",
   "execution_count": 6,
   "metadata": {},
   "outputs": [
    {
     "name": "stdout",
     "output_type": "stream",
     "text": [
      "3450000\n"
     ]
    }
   ],
   "source": [
    "# Encuentra el precio más alto por noche en las propiedades\n",
    "precio_mas_alto_por_noche = df['price_USD'].max()\n",
    "\n",
    "# Imprime el precio más alto por noche (como número entero sin unidades ni decimales)\n",
    "print(int(precio_mas_alto_por_noche))\n"
   ]
  },
  {
   "cell_type": "code",
   "execution_count": 7,
   "metadata": {},
   "outputs": [
    {
     "data": {
      "text/html": [
       "<div>\n",
       "<style scoped>\n",
       "    .dataframe tbody tr th:only-of-type {\n",
       "        vertical-align: middle;\n",
       "    }\n",
       "\n",
       "    .dataframe tbody tr th {\n",
       "        vertical-align: top;\n",
       "    }\n",
       "\n",
       "    .dataframe thead th {\n",
       "        text-align: right;\n",
       "    }\n",
       "</style>\n",
       "<table border=\"1\" class=\"dataframe\">\n",
       "  <thead>\n",
       "    <tr style=\"text-align: right;\">\n",
       "      <th></th>\n",
       "      <th>Booking_ID</th>\n",
       "      <th>no_of_adults</th>\n",
       "      <th>no_of_children</th>\n",
       "      <th>no_of_weekend_nights</th>\n",
       "      <th>no_of_week_nights</th>\n",
       "      <th>type_of_meal_plan</th>\n",
       "      <th>required_car_parking_space</th>\n",
       "      <th>room_type_reserved</th>\n",
       "      <th>lead_time</th>\n",
       "      <th>arrival_year</th>\n",
       "      <th>arrival_month</th>\n",
       "      <th>arrival_date</th>\n",
       "      <th>market_segment_type</th>\n",
       "      <th>repeated_guest</th>\n",
       "      <th>no_of_previous_cancellations</th>\n",
       "      <th>no_of_previous_bookings_not_canceled</th>\n",
       "      <th>price_per_room</th>\n",
       "      <th>no_of_special_requests</th>\n",
       "      <th>booking_status</th>\n",
       "    </tr>\n",
       "  </thead>\n",
       "  <tbody>\n",
       "    <tr>\n",
       "      <th>0</th>\n",
       "      <td>INN00001</td>\n",
       "      <td>2</td>\n",
       "      <td>0</td>\n",
       "      <td>1</td>\n",
       "      <td>2</td>\n",
       "      <td>Meal Plan 1</td>\n",
       "      <td>0</td>\n",
       "      <td>Room_Type 1</td>\n",
       "      <td>224</td>\n",
       "      <td>2017</td>\n",
       "      <td>10</td>\n",
       "      <td>2</td>\n",
       "      <td>Offline</td>\n",
       "      <td>0</td>\n",
       "      <td>0</td>\n",
       "      <td>0</td>\n",
       "      <td>65.00</td>\n",
       "      <td>0</td>\n",
       "      <td>Not_Canceled</td>\n",
       "    </tr>\n",
       "    <tr>\n",
       "      <th>1</th>\n",
       "      <td>INN00002</td>\n",
       "      <td>2</td>\n",
       "      <td>0</td>\n",
       "      <td>2</td>\n",
       "      <td>3</td>\n",
       "      <td>Not Selected</td>\n",
       "      <td>0</td>\n",
       "      <td>Room_Type 1</td>\n",
       "      <td>5</td>\n",
       "      <td>2018</td>\n",
       "      <td>11</td>\n",
       "      <td>6</td>\n",
       "      <td>Online</td>\n",
       "      <td>0</td>\n",
       "      <td>0</td>\n",
       "      <td>0</td>\n",
       "      <td>106.68</td>\n",
       "      <td>1</td>\n",
       "      <td>Not_Canceled</td>\n",
       "    </tr>\n",
       "    <tr>\n",
       "      <th>2</th>\n",
       "      <td>INN00003</td>\n",
       "      <td>1</td>\n",
       "      <td>0</td>\n",
       "      <td>2</td>\n",
       "      <td>1</td>\n",
       "      <td>Meal Plan 1</td>\n",
       "      <td>0</td>\n",
       "      <td>Room_Type 1</td>\n",
       "      <td>1</td>\n",
       "      <td>2018</td>\n",
       "      <td>2</td>\n",
       "      <td>28</td>\n",
       "      <td>Online</td>\n",
       "      <td>0</td>\n",
       "      <td>0</td>\n",
       "      <td>0</td>\n",
       "      <td>60.00</td>\n",
       "      <td>0</td>\n",
       "      <td>Canceled</td>\n",
       "    </tr>\n",
       "    <tr>\n",
       "      <th>3</th>\n",
       "      <td>INN00004</td>\n",
       "      <td>2</td>\n",
       "      <td>0</td>\n",
       "      <td>0</td>\n",
       "      <td>2</td>\n",
       "      <td>Meal Plan 1</td>\n",
       "      <td>0</td>\n",
       "      <td>Room_Type 1</td>\n",
       "      <td>211</td>\n",
       "      <td>2018</td>\n",
       "      <td>5</td>\n",
       "      <td>20</td>\n",
       "      <td>Online</td>\n",
       "      <td>0</td>\n",
       "      <td>0</td>\n",
       "      <td>0</td>\n",
       "      <td>100.00</td>\n",
       "      <td>0</td>\n",
       "      <td>Canceled</td>\n",
       "    </tr>\n",
       "    <tr>\n",
       "      <th>4</th>\n",
       "      <td>INN00005</td>\n",
       "      <td>2</td>\n",
       "      <td>0</td>\n",
       "      <td>1</td>\n",
       "      <td>1</td>\n",
       "      <td>Not Selected</td>\n",
       "      <td>0</td>\n",
       "      <td>Room_Type 1</td>\n",
       "      <td>48</td>\n",
       "      <td>2018</td>\n",
       "      <td>4</td>\n",
       "      <td>11</td>\n",
       "      <td>Online</td>\n",
       "      <td>0</td>\n",
       "      <td>0</td>\n",
       "      <td>0</td>\n",
       "      <td>94.50</td>\n",
       "      <td>0</td>\n",
       "      <td>Canceled</td>\n",
       "    </tr>\n",
       "    <tr>\n",
       "      <th>...</th>\n",
       "      <td>...</td>\n",
       "      <td>...</td>\n",
       "      <td>...</td>\n",
       "      <td>...</td>\n",
       "      <td>...</td>\n",
       "      <td>...</td>\n",
       "      <td>...</td>\n",
       "      <td>...</td>\n",
       "      <td>...</td>\n",
       "      <td>...</td>\n",
       "      <td>...</td>\n",
       "      <td>...</td>\n",
       "      <td>...</td>\n",
       "      <td>...</td>\n",
       "      <td>...</td>\n",
       "      <td>...</td>\n",
       "      <td>...</td>\n",
       "      <td>...</td>\n",
       "      <td>...</td>\n",
       "    </tr>\n",
       "    <tr>\n",
       "      <th>36270</th>\n",
       "      <td>INN36271</td>\n",
       "      <td>3</td>\n",
       "      <td>0</td>\n",
       "      <td>2</td>\n",
       "      <td>6</td>\n",
       "      <td>Meal Plan 1</td>\n",
       "      <td>0</td>\n",
       "      <td>Room_Type 4</td>\n",
       "      <td>85</td>\n",
       "      <td>2018</td>\n",
       "      <td>8</td>\n",
       "      <td>3</td>\n",
       "      <td>Online</td>\n",
       "      <td>0</td>\n",
       "      <td>0</td>\n",
       "      <td>0</td>\n",
       "      <td>167.80</td>\n",
       "      <td>1</td>\n",
       "      <td>Not_Canceled</td>\n",
       "    </tr>\n",
       "    <tr>\n",
       "      <th>36271</th>\n",
       "      <td>INN36272</td>\n",
       "      <td>2</td>\n",
       "      <td>0</td>\n",
       "      <td>1</td>\n",
       "      <td>3</td>\n",
       "      <td>Meal Plan 1</td>\n",
       "      <td>0</td>\n",
       "      <td>Room_Type 1</td>\n",
       "      <td>228</td>\n",
       "      <td>2018</td>\n",
       "      <td>10</td>\n",
       "      <td>17</td>\n",
       "      <td>Online</td>\n",
       "      <td>0</td>\n",
       "      <td>0</td>\n",
       "      <td>0</td>\n",
       "      <td>90.95</td>\n",
       "      <td>2</td>\n",
       "      <td>Canceled</td>\n",
       "    </tr>\n",
       "    <tr>\n",
       "      <th>36272</th>\n",
       "      <td>INN36273</td>\n",
       "      <td>2</td>\n",
       "      <td>0</td>\n",
       "      <td>2</td>\n",
       "      <td>6</td>\n",
       "      <td>Meal Plan 1</td>\n",
       "      <td>0</td>\n",
       "      <td>Room_Type 1</td>\n",
       "      <td>148</td>\n",
       "      <td>2018</td>\n",
       "      <td>7</td>\n",
       "      <td>1</td>\n",
       "      <td>Online</td>\n",
       "      <td>0</td>\n",
       "      <td>0</td>\n",
       "      <td>0</td>\n",
       "      <td>98.39</td>\n",
       "      <td>2</td>\n",
       "      <td>Not_Canceled</td>\n",
       "    </tr>\n",
       "    <tr>\n",
       "      <th>36273</th>\n",
       "      <td>INN36274</td>\n",
       "      <td>2</td>\n",
       "      <td>0</td>\n",
       "      <td>0</td>\n",
       "      <td>3</td>\n",
       "      <td>Not Selected</td>\n",
       "      <td>0</td>\n",
       "      <td>Room_Type 1</td>\n",
       "      <td>63</td>\n",
       "      <td>2018</td>\n",
       "      <td>4</td>\n",
       "      <td>21</td>\n",
       "      <td>Online</td>\n",
       "      <td>0</td>\n",
       "      <td>0</td>\n",
       "      <td>0</td>\n",
       "      <td>94.50</td>\n",
       "      <td>0</td>\n",
       "      <td>Canceled</td>\n",
       "    </tr>\n",
       "    <tr>\n",
       "      <th>36274</th>\n",
       "      <td>INN36275</td>\n",
       "      <td>2</td>\n",
       "      <td>0</td>\n",
       "      <td>1</td>\n",
       "      <td>2</td>\n",
       "      <td>Meal Plan 1</td>\n",
       "      <td>0</td>\n",
       "      <td>Room_Type 1</td>\n",
       "      <td>207</td>\n",
       "      <td>2018</td>\n",
       "      <td>12</td>\n",
       "      <td>30</td>\n",
       "      <td>Offline</td>\n",
       "      <td>0</td>\n",
       "      <td>0</td>\n",
       "      <td>0</td>\n",
       "      <td>161.67</td>\n",
       "      <td>0</td>\n",
       "      <td>Not_Canceled</td>\n",
       "    </tr>\n",
       "  </tbody>\n",
       "</table>\n",
       "<p>36275 rows × 19 columns</p>\n",
       "</div>"
      ],
      "text/plain": [
       "      Booking_ID  no_of_adults  no_of_children  no_of_weekend_nights  \\\n",
       "0       INN00001             2               0                     1   \n",
       "1       INN00002             2               0                     2   \n",
       "2       INN00003             1               0                     2   \n",
       "3       INN00004             2               0                     0   \n",
       "4       INN00005             2               0                     1   \n",
       "...          ...           ...             ...                   ...   \n",
       "36270   INN36271             3               0                     2   \n",
       "36271   INN36272             2               0                     1   \n",
       "36272   INN36273             2               0                     2   \n",
       "36273   INN36274             2               0                     0   \n",
       "36274   INN36275             2               0                     1   \n",
       "\n",
       "       no_of_week_nights type_of_meal_plan  required_car_parking_space  \\\n",
       "0                      2       Meal Plan 1                           0   \n",
       "1                      3      Not Selected                           0   \n",
       "2                      1       Meal Plan 1                           0   \n",
       "3                      2       Meal Plan 1                           0   \n",
       "4                      1      Not Selected                           0   \n",
       "...                  ...               ...                         ...   \n",
       "36270                  6       Meal Plan 1                           0   \n",
       "36271                  3       Meal Plan 1                           0   \n",
       "36272                  6       Meal Plan 1                           0   \n",
       "36273                  3      Not Selected                           0   \n",
       "36274                  2       Meal Plan 1                           0   \n",
       "\n",
       "      room_type_reserved  lead_time  arrival_year  arrival_month  \\\n",
       "0            Room_Type 1        224          2017             10   \n",
       "1            Room_Type 1          5          2018             11   \n",
       "2            Room_Type 1          1          2018              2   \n",
       "3            Room_Type 1        211          2018              5   \n",
       "4            Room_Type 1         48          2018              4   \n",
       "...                  ...        ...           ...            ...   \n",
       "36270        Room_Type 4         85          2018              8   \n",
       "36271        Room_Type 1        228          2018             10   \n",
       "36272        Room_Type 1        148          2018              7   \n",
       "36273        Room_Type 1         63          2018              4   \n",
       "36274        Room_Type 1        207          2018             12   \n",
       "\n",
       "       arrival_date market_segment_type  repeated_guest  \\\n",
       "0                 2             Offline               0   \n",
       "1                 6              Online               0   \n",
       "2                28              Online               0   \n",
       "3                20              Online               0   \n",
       "4                11              Online               0   \n",
       "...             ...                 ...             ...   \n",
       "36270             3              Online               0   \n",
       "36271            17              Online               0   \n",
       "36272             1              Online               0   \n",
       "36273            21              Online               0   \n",
       "36274            30             Offline               0   \n",
       "\n",
       "       no_of_previous_cancellations  no_of_previous_bookings_not_canceled  \\\n",
       "0                                 0                                     0   \n",
       "1                                 0                                     0   \n",
       "2                                 0                                     0   \n",
       "3                                 0                                     0   \n",
       "4                                 0                                     0   \n",
       "...                             ...                                   ...   \n",
       "36270                             0                                     0   \n",
       "36271                             0                                     0   \n",
       "36272                             0                                     0   \n",
       "36273                             0                                     0   \n",
       "36274                             0                                     0   \n",
       "\n",
       "       price_per_room  no_of_special_requests booking_status  \n",
       "0               65.00                       0   Not_Canceled  \n",
       "1              106.68                       1   Not_Canceled  \n",
       "2               60.00                       0       Canceled  \n",
       "3              100.00                       0       Canceled  \n",
       "4               94.50                       0       Canceled  \n",
       "...               ...                     ...            ...  \n",
       "36270          167.80                       1   Not_Canceled  \n",
       "36271           90.95                       2       Canceled  \n",
       "36272           98.39                       2   Not_Canceled  \n",
       "36273           94.50                       0       Canceled  \n",
       "36274          161.67                       0   Not_Canceled  \n",
       "\n",
       "[36275 rows x 19 columns]"
      ]
     },
     "execution_count": 7,
     "metadata": {},
     "output_type": "execute_result"
    }
   ],
   "source": [
    "archivo_csv = 'C:\\\\Users\\\\juana\\\\Desktop\\\\Cursos Python\\\\ChPM5\\\\hoteles.csv'\n",
    "\n",
    "# Carga el archivo CSV en un DataFrame\n",
    "df_hoteles = pd.read_csv(archivo_csv)\n",
    "df_hoteles\n"
   ]
  },
  {
   "cell_type": "code",
   "execution_count": 8,
   "metadata": {},
   "outputs": [
    {
     "name": "stdout",
     "output_type": "stream",
     "text": [
      "540\n"
     ]
    }
   ],
   "source": [
    "\n",
    "\n",
    "# 9) Especifica la ubicación del archivo CSV\n",
    "\n",
    "# Encuentra el precio más alto por noche (como número entero sin unidades ni decimales)\n",
    "precio_mas_alto_por_noche = df_hoteles['price_per_room'].max()\n",
    "\n",
    "# Imprime el precio más alto por noche (como número entero sin unidades ni decimales)\n",
    "print(int(precio_mas_alto_por_noche))\n"
   ]
  },
  {
   "cell_type": "code",
   "execution_count": 9,
   "metadata": {},
   "outputs": [
    {
     "name": "stdout",
     "output_type": "stream",
     "text": [
      "Cantidad de reservas en el dataset: 36275\n"
     ]
    }
   ],
   "source": [
    "# 10) Contar la cantidad de reservas en el dataset\n",
    "cantidad_de_reservas = df_hoteles.shape[0]\n",
    "\n",
    "# Imprimir la cantidad de reservas\n",
    "print(\"Cantidad de reservas en el dataset:\", cantidad_de_reservas)\n"
   ]
  },
  {
   "cell_type": "code",
   "execution_count": 10,
   "metadata": {},
   "outputs": [
    {
     "name": "stdout",
     "output_type": "stream",
     "text": [
      "Incremento porcentual en la cantidad de reservas entre 2017 y 2018: 356.87749462695734 %\n"
     ]
    }
   ],
   "source": [
    "# 11) Filtra las filas correspondientes a los años 2018 y 2017\n",
    "reservas_2018 = df_hoteles[df_hoteles['arrival_year'] == 2018]\n",
    "reservas_2017 = df_hoteles[df_hoteles['arrival_year'] == 2017]\n",
    "\n",
    "# Calcula la cantidad de reservas para cada año\n",
    "cantidad_reservas_2018 = reservas_2018.shape[0]\n",
    "cantidad_reservas_2017 = reservas_2017.shape[0]\n",
    "\n",
    "# Calcula el incremento porcentual\n",
    "incremento_porcentual = ((cantidad_reservas_2018 - cantidad_reservas_2017) / cantidad_reservas_2017) * 100\n",
    "\n",
    "# Imprime el incremento porcentual\n",
    "print(\"Incremento porcentual en la cantidad de reservas entre 2017 y 2018:\", incremento_porcentual, \"%\")\n"
   ]
  },
  {
   "cell_type": "code",
   "execution_count": 13,
   "metadata": {},
   "outputs": [
    {
     "name": "stdout",
     "output_type": "stream",
     "text": [
      "El mes con el precio promedio por reserva más alto es: 9\n"
     ]
    }
   ],
   "source": [
    "# 12) Agrupa las reservas por mes y calcula el precio promedio por reserva\n",
    "precio_promedio_por_mes = df_hoteles.groupby('arrival_month')['price_per_room'].mean()\n",
    "\n",
    "# Encuentra el mes con el precio promedio más alto\n",
    "mes_max_precio_promedio = precio_promedio_por_mes.idxmax()\n",
    "\n",
    "# Imprime el mes con el precio promedio más alto\n",
    "print(\"El mes con el precio promedio por reserva más alto es:\", mes_max_precio_promedio)\n",
    "# Septiembre\n"
   ]
  },
  {
   "cell_type": "code",
   "execution_count": 14,
   "metadata": {},
   "outputs": [
    {
     "name": "stdout",
     "output_type": "stream",
     "text": [
      "Las reservas que se repiten representan aproximadamente el 2.56% del total de reservas.\n"
     ]
    }
   ],
   "source": [
    "# 13) Calcular el porcentaje de reservas que se repiten\n",
    "porcentaje_repeticion = (df_hoteles['repeated_guest'].sum() / len(df_hoteles)) * 100\n",
    "\n",
    "# Imprimir el resultado\n",
    "print(f\"Las reservas que se repiten representan aproximadamente el {porcentaje_repeticion:.2f}% del total de reservas.\")\n"
   ]
  },
  {
   "cell_type": "code",
   "execution_count": 15,
   "metadata": {},
   "outputs": [
    {
     "name": "stdout",
     "output_type": "stream",
     "text": [
      "El mes preferido por los clientes que tienen hijos es: 8\n"
     ]
    }
   ],
   "source": [
    "# 14)# Filtrar las reservas donde hay al menos un niño (no_of_children > 0)\n",
    "reservas_con_hijos = df_hoteles[df_hoteles['no_of_children'] > 0]\n",
    "\n",
    "# Agrupar estas reservas por mes y contar cuántas hay en cada mes\n",
    "reservas_por_mes = reservas_con_hijos.groupby('arrival_month')['Booking_ID'].count()\n",
    "\n",
    "# Encontrar el mes con la mayoría de reservas\n",
    "mes_preferido_con_hijos = reservas_por_mes.idxmax()\n",
    "\n",
    "# Imprimir el resultado\n",
    "print(\"El mes preferido por los clientes que tienen hijos es:\", mes_preferido_con_hijos)\n",
    "# Agosto"
   ]
  },
  {
   "cell_type": "code",
   "execution_count": 16,
   "metadata": {},
   "outputs": [
    {
     "name": "stdout",
     "output_type": "stream",
     "text": [
      "El tipo de cliente que utiliza en el total de sus reservas el plan de comidas 'Meal Plan 1' es: Online\n"
     ]
    }
   ],
   "source": [
    "# 15) Filtra el DataFrame para las reservas que tienen 'Meal Plan 1' como tipo de comida\n",
    "reservas_meal_plan_1 = df_hoteles[df_hoteles['type_of_meal_plan'] == 'Meal Plan 1']\n",
    "\n",
    "# Calcula el total de reservas para cada tipo de cliente\n",
    "total_reservas_por_cliente = reservas_meal_plan_1['market_segment_type'].value_counts()\n",
    "\n",
    "# Encuentra el tipo de cliente con más reservas\n",
    "cliente_mas_frecuente = total_reservas_por_cliente.idxmax()\n",
    "\n",
    "print(\"El tipo de cliente que utiliza en el total de sus reservas el plan de comidas 'Meal Plan 1' es:\", cliente_mas_frecuente)\n"
   ]
  },
  {
   "cell_type": "code",
   "execution_count": 17,
   "metadata": {},
   "outputs": [
    {
     "name": "stdout",
     "output_type": "stream",
     "text": [
      "Requirement already satisfied: openpyxl in c:\\users\\juana\\appdata\\local\\packages\\pythonsoftwarefoundation.python.3.11_qbz5n2kfra8p0\\localcache\\local-packages\\python311\\site-packages (3.1.2)\n",
      "Requirement already satisfied: et-xmlfile in c:\\users\\juana\\appdata\\local\\packages\\pythonsoftwarefoundation.python.3.11_qbz5n2kfra8p0\\localcache\\local-packages\\python311\\site-packages (from openpyxl) (1.1.0)\n"
     ]
    },
    {
     "name": "stderr",
     "output_type": "stream",
     "text": [
      "\n",
      "[notice] A new release of pip is available: 23.2 -> 23.2.1\n",
      "[notice] To update, run: C:\\Users\\juana\\AppData\\Local\\Microsoft\\WindowsApps\\PythonSoftwareFoundation.Python.3.11_qbz5n2kfra8p0\\python.exe -m pip install --upgrade pip\n"
     ]
    }
   ],
   "source": [
    "!pip install openpyxl\n"
   ]
  },
  {
   "cell_type": "code",
   "execution_count": 28,
   "metadata": {},
   "outputs": [
    {
     "name": "stdout",
     "output_type": "stream",
     "text": [
      "         Cajero  Coordenada en X  Coordenada en Y Costo Fijo por Stock Out  \\\n",
      "0      Cajero 1               50              104                     0,39   \n",
      "1      Cajero 2               24               24                     0,37   \n",
      "2      Cajero 3                9               48                     0,44   \n",
      "3      Cajero 4               79               73                      0,3   \n",
      "4      Cajero 5               13               20                     0,23   \n",
      "..          ...              ...              ...                      ...   \n",
      "226  Cajero 227               78               18                      0,4   \n",
      "227  Cajero 228               35               23                     0,26   \n",
      "228  Cajero 229              117               79                     0,34   \n",
      "229  Cajero 230               35               44                     0,18   \n",
      "230  Cajero 231               37               77                     0,32   \n",
      "\n",
      "    Costo Variable por Stock Out Duración de la recarga [Horas]  Lunes  \\\n",
      "0                           0,04                            0,2      1   \n",
      "1                           0,02                            0,2      0   \n",
      "2                           0,05                            0,3      1   \n",
      "3                           0,05                            0,2      1   \n",
      "4                           0,04                            0,3      1   \n",
      "..                           ...                            ...    ...   \n",
      "226                         0,05                            0,3      0   \n",
      "227                         0,04                            0,3      1   \n",
      "228                         0,02                            0,2      1   \n",
      "229                         0,05                            0,2      0   \n",
      "230                         0,03                            0,4      1   \n",
      "\n",
      "     Martes  Miércoles  Jueves  Viernes  Sábado  Domingo  Turno mañana  \\\n",
      "0         1          1       1        1       1        1             0   \n",
      "1         1          1       1        1       1        0             1   \n",
      "2         1          1       1        0       0        1             1   \n",
      "3         1          0       1        1       0        1             1   \n",
      "4         1          0       1        1       1        1             1   \n",
      "..      ...        ...     ...      ...     ...      ...           ...   \n",
      "226       1          1       1        0       1        1             1   \n",
      "227       0          1       0        1       1        1             1   \n",
      "228       0          1       1        1       1        1             0   \n",
      "229       1          1       1        1       0        1             0   \n",
      "230       0          1       0        1       1        1             1   \n",
      "\n",
      "     Turno tarde  Turno noche  \n",
      "0              0            1  \n",
      "1              1            1  \n",
      "2              1            1  \n",
      "3              1            1  \n",
      "4              1            1  \n",
      "..           ...          ...  \n",
      "226            1            1  \n",
      "227            1            1  \n",
      "228            1            1  \n",
      "229            1            0  \n",
      "230            1            1  \n",
      "\n",
      "[231 rows x 16 columns]\n"
     ]
    }
   ],
   "source": [
    "\n",
    "# Especifica la ruta del archivo CSV\n",
    "ruta_archivo = r'C:\\Users\\juana\\Desktop\\Cursos Python\\ChPM5\\Cajeros_automaticosBD.csv'\n",
    "\n",
    "# Lee el archivo CSV en un DataFrame\n",
    "cajeros_df  = pd.read_csv(ruta_archivo)\n",
    "\n",
    "# Muestra el DataFrame\n",
    "print(cajeros_df )\n"
   ]
  },
  {
   "cell_type": "code",
   "execution_count": 30,
   "metadata": {},
   "outputs": [
    {
     "name": "stdout",
     "output_type": "stream",
     "text": [
      "     Cajero  Coordenada en X  Coordenada en Y Costo Fijo por Stock Out  \\\n",
      "0  Cajero 1               50              104                     0,39   \n",
      "1  Cajero 2               24               24                     0,37   \n",
      "2  Cajero 3                9               48                     0,44   \n",
      "3  Cajero 4               79               73                      0,3   \n",
      "4  Cajero 5               13               20                     0,23   \n",
      "\n",
      "  Costo Variable por Stock Out Duración de la recarga [Horas]  Lunes  Martes  \\\n",
      "0                         0,04                            0,2      1       1   \n",
      "1                         0,02                            0,2      0       1   \n",
      "2                         0,05                            0,3      1       1   \n",
      "3                         0,05                            0,2      1       1   \n",
      "4                         0,04                            0,3      1       1   \n",
      "\n",
      "   Miércoles  Jueves  Viernes  Sábado  Domingo  Turno mañana  Turno tarde  \\\n",
      "0          1       1        1       1        1             0            0   \n",
      "1          1       1        1       1        0             1            1   \n",
      "2          1       1        0       0        1             1            1   \n",
      "3          0       1        1       0        1             1            1   \n",
      "4          0       1        1       1        1             1            1   \n",
      "\n",
      "   Turno noche  \n",
      "0            1  \n",
      "1            1  \n",
      "2            1  \n",
      "3            1  \n",
      "4            1  \n"
     ]
    }
   ],
   "source": [
    "print(cajeros_df.head())"
   ]
  },
  {
   "cell_type": "code",
   "execution_count": 34,
   "metadata": {},
   "outputs": [
    {
     "ename": "FileNotFoundError",
     "evalue": "[Errno 2] No such file or directory: 'C:\\\\Users\\\\juana\\\\Desktop\\\\Cursos Python\\\\ChPM5\\\\Cajeros.xlsx'",
     "output_type": "error",
     "traceback": [
      "\u001b[1;31m---------------------------------------------------------------------------\u001b[0m",
      "\u001b[1;31mFileNotFoundError\u001b[0m                         Traceback (most recent call last)",
      "\u001b[1;32mc:\\Users\\juana\\Desktop\\Cursos Python\\ChPM5\\CP-M5\\M5.ipynb Cell 18\u001b[0m line \u001b[0;36m7\n\u001b[0;32m      <a href='vscode-notebook-cell:/c%3A/Users/juana/Desktop/Cursos%20Python/ChPM5/CP-M5/M5.ipynb#X33sZmlsZQ%3D%3D?line=3'>4</a>\u001b[0m ruta_archivo_excel \u001b[39m=\u001b[39m \u001b[39mr\u001b[39m\u001b[39m'\u001b[39m\u001b[39mC:\u001b[39m\u001b[39m\\\u001b[39m\u001b[39mUsers\u001b[39m\u001b[39m\\\u001b[39m\u001b[39mjuana\u001b[39m\u001b[39m\\\u001b[39m\u001b[39mDesktop\u001b[39m\u001b[39m\\\u001b[39m\u001b[39mCursos Python\u001b[39m\u001b[39m\\\u001b[39m\u001b[39mChPM5\u001b[39m\u001b[39m\\\u001b[39m\u001b[39mCajeros.xlsx\u001b[39m\u001b[39m'\u001b[39m\n\u001b[0;32m      <a href='vscode-notebook-cell:/c%3A/Users/juana/Desktop/Cursos%20Python/ChPM5/CP-M5/M5.ipynb#X33sZmlsZQ%3D%3D?line=5'>6</a>\u001b[0m \u001b[39m# Lee la hoja 'Retiros' del archivo Excel y crea un DataFrame\u001b[39;00m\n\u001b[1;32m----> <a href='vscode-notebook-cell:/c%3A/Users/juana/Desktop/Cursos%20Python/ChPM5/CP-M5/M5.ipynb#X33sZmlsZQ%3D%3D?line=6'>7</a>\u001b[0m retiros_df \u001b[39m=\u001b[39m pd\u001b[39m.\u001b[39;49mread_excel(ruta_archivo_excel, sheet_name\u001b[39m=\u001b[39;49m\u001b[39m'\u001b[39;49m\u001b[39mRetiros\u001b[39;49m\u001b[39m'\u001b[39;49m)\n\u001b[0;32m      <a href='vscode-notebook-cell:/c%3A/Users/juana/Desktop/Cursos%20Python/ChPM5/CP-M5/M5.ipynb#X33sZmlsZQ%3D%3D?line=8'>9</a>\u001b[0m \u001b[39m# Muestra el DataFrame\u001b[39;00m\n\u001b[0;32m     <a href='vscode-notebook-cell:/c%3A/Users/juana/Desktop/Cursos%20Python/ChPM5/CP-M5/M5.ipynb#X33sZmlsZQ%3D%3D?line=9'>10</a>\u001b[0m \u001b[39mprint\u001b[39m(retiros_df)\n",
      "File \u001b[1;32m~\\AppData\\Local\\Packages\\PythonSoftwareFoundation.Python.3.11_qbz5n2kfra8p0\\LocalCache\\local-packages\\Python311\\site-packages\\pandas\\io\\excel\\_base.py:478\u001b[0m, in \u001b[0;36mread_excel\u001b[1;34m(io, sheet_name, header, names, index_col, usecols, dtype, engine, converters, true_values, false_values, skiprows, nrows, na_values, keep_default_na, na_filter, verbose, parse_dates, date_parser, date_format, thousands, decimal, comment, skipfooter, storage_options, dtype_backend)\u001b[0m\n\u001b[0;32m    476\u001b[0m \u001b[39mif\u001b[39;00m \u001b[39mnot\u001b[39;00m \u001b[39misinstance\u001b[39m(io, ExcelFile):\n\u001b[0;32m    477\u001b[0m     should_close \u001b[39m=\u001b[39m \u001b[39mTrue\u001b[39;00m\n\u001b[1;32m--> 478\u001b[0m     io \u001b[39m=\u001b[39m ExcelFile(io, storage_options\u001b[39m=\u001b[39;49mstorage_options, engine\u001b[39m=\u001b[39;49mengine)\n\u001b[0;32m    479\u001b[0m \u001b[39melif\u001b[39;00m engine \u001b[39mand\u001b[39;00m engine \u001b[39m!=\u001b[39m io\u001b[39m.\u001b[39mengine:\n\u001b[0;32m    480\u001b[0m     \u001b[39mraise\u001b[39;00m \u001b[39mValueError\u001b[39;00m(\n\u001b[0;32m    481\u001b[0m         \u001b[39m\"\u001b[39m\u001b[39mEngine should not be specified when passing \u001b[39m\u001b[39m\"\u001b[39m\n\u001b[0;32m    482\u001b[0m         \u001b[39m\"\u001b[39m\u001b[39man ExcelFile - ExcelFile already has the engine set\u001b[39m\u001b[39m\"\u001b[39m\n\u001b[0;32m    483\u001b[0m     )\n",
      "File \u001b[1;32m~\\AppData\\Local\\Packages\\PythonSoftwareFoundation.Python.3.11_qbz5n2kfra8p0\\LocalCache\\local-packages\\Python311\\site-packages\\pandas\\io\\excel\\_base.py:1496\u001b[0m, in \u001b[0;36mExcelFile.__init__\u001b[1;34m(self, path_or_buffer, engine, storage_options)\u001b[0m\n\u001b[0;32m   1494\u001b[0m     ext \u001b[39m=\u001b[39m \u001b[39m\"\u001b[39m\u001b[39mxls\u001b[39m\u001b[39m\"\u001b[39m\n\u001b[0;32m   1495\u001b[0m \u001b[39melse\u001b[39;00m:\n\u001b[1;32m-> 1496\u001b[0m     ext \u001b[39m=\u001b[39m inspect_excel_format(\n\u001b[0;32m   1497\u001b[0m         content_or_path\u001b[39m=\u001b[39;49mpath_or_buffer, storage_options\u001b[39m=\u001b[39;49mstorage_options\n\u001b[0;32m   1498\u001b[0m     )\n\u001b[0;32m   1499\u001b[0m     \u001b[39mif\u001b[39;00m ext \u001b[39mis\u001b[39;00m \u001b[39mNone\u001b[39;00m:\n\u001b[0;32m   1500\u001b[0m         \u001b[39mraise\u001b[39;00m \u001b[39mValueError\u001b[39;00m(\n\u001b[0;32m   1501\u001b[0m             \u001b[39m\"\u001b[39m\u001b[39mExcel file format cannot be determined, you must specify \u001b[39m\u001b[39m\"\u001b[39m\n\u001b[0;32m   1502\u001b[0m             \u001b[39m\"\u001b[39m\u001b[39man engine manually.\u001b[39m\u001b[39m\"\u001b[39m\n\u001b[0;32m   1503\u001b[0m         )\n",
      "File \u001b[1;32m~\\AppData\\Local\\Packages\\PythonSoftwareFoundation.Python.3.11_qbz5n2kfra8p0\\LocalCache\\local-packages\\Python311\\site-packages\\pandas\\io\\excel\\_base.py:1371\u001b[0m, in \u001b[0;36minspect_excel_format\u001b[1;34m(content_or_path, storage_options)\u001b[0m\n\u001b[0;32m   1368\u001b[0m \u001b[39mif\u001b[39;00m \u001b[39misinstance\u001b[39m(content_or_path, \u001b[39mbytes\u001b[39m):\n\u001b[0;32m   1369\u001b[0m     content_or_path \u001b[39m=\u001b[39m BytesIO(content_or_path)\n\u001b[1;32m-> 1371\u001b[0m \u001b[39mwith\u001b[39;00m get_handle(\n\u001b[0;32m   1372\u001b[0m     content_or_path, \u001b[39m\"\u001b[39;49m\u001b[39mrb\u001b[39;49m\u001b[39m\"\u001b[39;49m, storage_options\u001b[39m=\u001b[39;49mstorage_options, is_text\u001b[39m=\u001b[39;49m\u001b[39mFalse\u001b[39;49;00m\n\u001b[0;32m   1373\u001b[0m ) \u001b[39mas\u001b[39;00m handle:\n\u001b[0;32m   1374\u001b[0m     stream \u001b[39m=\u001b[39m handle\u001b[39m.\u001b[39mhandle\n\u001b[0;32m   1375\u001b[0m     stream\u001b[39m.\u001b[39mseek(\u001b[39m0\u001b[39m)\n",
      "File \u001b[1;32m~\\AppData\\Local\\Packages\\PythonSoftwareFoundation.Python.3.11_qbz5n2kfra8p0\\LocalCache\\local-packages\\Python311\\site-packages\\pandas\\io\\common.py:868\u001b[0m, in \u001b[0;36mget_handle\u001b[1;34m(path_or_buf, mode, encoding, compression, memory_map, is_text, errors, storage_options)\u001b[0m\n\u001b[0;32m    859\u001b[0m         handle \u001b[39m=\u001b[39m \u001b[39mopen\u001b[39m(\n\u001b[0;32m    860\u001b[0m             handle,\n\u001b[0;32m    861\u001b[0m             ioargs\u001b[39m.\u001b[39mmode,\n\u001b[1;32m   (...)\u001b[0m\n\u001b[0;32m    864\u001b[0m             newline\u001b[39m=\u001b[39m\u001b[39m\"\u001b[39m\u001b[39m\"\u001b[39m,\n\u001b[0;32m    865\u001b[0m         )\n\u001b[0;32m    866\u001b[0m     \u001b[39melse\u001b[39;00m:\n\u001b[0;32m    867\u001b[0m         \u001b[39m# Binary mode\u001b[39;00m\n\u001b[1;32m--> 868\u001b[0m         handle \u001b[39m=\u001b[39m \u001b[39mopen\u001b[39m(handle, ioargs\u001b[39m.\u001b[39mmode)\n\u001b[0;32m    869\u001b[0m     handles\u001b[39m.\u001b[39mappend(handle)\n\u001b[0;32m    871\u001b[0m \u001b[39m# Convert BytesIO or file objects passed with an encoding\u001b[39;00m\n",
      "\u001b[1;31mFileNotFoundError\u001b[0m: [Errno 2] No such file or directory: 'C:\\\\Users\\\\juana\\\\Desktop\\\\Cursos Python\\\\ChPM5\\\\Cajeros.xlsx'"
     ]
    }
   ],
   "source": [
    "import pandas as pd\n",
    "\n",
    "# Especifica la ruta del archivo Excel\n",
    "ruta_archivo_excel = r'C:\\Users\\juana\\Desktop\\Cursos Python\\ChPM5\\Cajeros.xlsx'\n",
    "\n",
    "# Lee la hoja 'Retiros' del archivo Excel y crea un DataFrame\n",
    "retiros_df = pd.read_excel(ruta_archivo_excel, sheet_name='Retiros')\n",
    "\n",
    "# Muestra el DataFrame\n",
    "print(retiros_df)\n"
   ]
  },
  {
   "cell_type": "code",
   "execution_count": null,
   "metadata": {},
   "outputs": [],
   "source": []
  },
  {
   "cell_type": "code",
   "execution_count": 19,
   "metadata": {},
   "outputs": [
    {
     "name": "stdout",
     "output_type": "stream",
     "text": [
      "Cantidad de cajeros que pueden ser reabastecidos al menos 4 días a la semana: 212\n"
     ]
    }
   ],
   "source": [
    "# 16)\n",
    "\n",
    "# Especifica la ubicación del archivo Excel y el nombre de la hoja\n",
    "\n",
    "nombre_hoja = 'Ubicación Cajeros'\n",
    "nombre_hoja\n",
    "\n",
    "\n",
    "# Carga los datos desde la hoja especificada\n",
    "df_cajeros = pd.read_excel(archivo_excel, sheet_name=nombre_hoja)\n",
    "\n",
    "# Realiza el análisis de los datos según tus necesidades\n",
    "# Por ejemplo, puedes contar la cantidad de cajeros que pueden ser reabastecidos al menos 4 días a la semana:\n",
    "cajeros_reabastecidos_mas_4_dias = df_cajeros[(df_cajeros.iloc[:, 6:13].sum(axis=1) >= 4)]\n",
    "\n",
    "# Luego, puedes obtener la cantidad de cajeros que cumplen con esta condición:\n",
    "cantidad_cajeros_mas_4_dias = len(cajeros_reabastecidos_mas_4_dias)\n",
    "\n",
    "# Imprime la cantidad de cajeros que pueden ser reabastecidos al menos 4 días a la semana\n",
    "print(\"Cantidad de cajeros que pueden ser reabastecidos al menos 4 días a la semana:\", cantidad_cajeros_mas_4_dias)\n"
   ]
  },
  {
   "cell_type": "code",
   "execution_count": 20,
   "metadata": {},
   "outputs": [
    {
     "name": "stdout",
     "output_type": "stream",
     "text": [
      "53\n"
     ]
    }
   ],
   "source": [
    "# 17)\n",
    "\n",
    "# Carga los datos desde la hoja especificada\n",
    "df_cajeros = pd.read_excel(archivo_excel, sheet_name=nombre_hoja)\n",
    "\n",
    "# Filtra los cajeros que cumplen con las condiciones:\n",
    "# Al menos 4 días a la semana, al menos un día en fin de semana, y sin turno de noche\n",
    "condiciones = (df_cajeros.iloc[:, 6:13].sum(axis=1) >= 4) & ((df_cajeros['Sábado'] == 1) | (df_cajeros['Domingo'] == 1)) & (df_cajeros['Turno noche'] == 0)\n",
    "cajeros_filtrados = df_cajeros[condiciones]\n",
    "\n",
    "# Calcula la cantidad de cajeros que cumplen con las condiciones\n",
    "cantidad_cajeros_cumplen_condiciones = len(cajeros_filtrados)\n",
    "\n",
    "# Imprime la cantidad de cajeros que cumplen con las condiciones\n",
    "print(cantidad_cajeros_cumplen_condiciones)\n"
   ]
  },
  {
   "cell_type": "code",
   "execution_count": 40,
   "metadata": {},
   "outputs": [
    {
     "name": "stdout",
     "output_type": "stream",
     "text": [
      "       Día      Cajero  Monto Hora de la transacción\n",
      "0        1  Cajero 196   2.70                    0:0\n",
      "1        1   Cajero 14   2.92                    0:1\n",
      "2        1  Cajero 143   5.69                    0:3\n",
      "3        1  Cajero 142   6.74                    0:4\n",
      "4        1  Cajero 214   2.40                    0:6\n",
      "...    ...         ...    ...                    ...\n",
      "98217  102   Cajero 37   5.04                  23:39\n",
      "98218  102   Cajero 49   2.60                  23:42\n",
      "98219  102  Cajero 209   3.03                  23:42\n",
      "98220  102  Cajero 173   6.07                  23:44\n",
      "98221  102  Cajero 160   5.63                  23:46\n",
      "\n",
      "[98222 rows x 4 columns]\n"
     ]
    }
   ],
   "source": [
    "import pandas as pd\n",
    "\n",
    "# Especifica la ruta del archivo\n",
    "ruta_archivo = r'C:\\Users\\juana\\Desktop\\Cursos Python\\ChPM5\\Cajeros_automaticosBD.xlsx'\n",
    "\n",
    "# Lee la hoja 'Retiros' del archivo Excel y crea un DataFrame\n",
    "retiros = pd.read_excel(ruta_archivo, sheet_name='Retiros')\n",
    "\n",
    "# Muestra el DataFrame\n",
    "print(retiros)\n"
   ]
  },
  {
   "cell_type": "code",
   "execution_count": 43,
   "metadata": {},
   "outputs": [
    {
     "name": "stdout",
     "output_type": "stream",
     "text": [
      "La cantidad de retiros entre las 2:00 AM y las 2:59 AM es: 4120\n"
     ]
    }
   ],
   "source": [
    "# Filtra las filas donde la hora de la transacción comienza con '2:'\n",
    "hora = retiros['Hora de la transacción'].str.contains('^2:')\n",
    "\n",
    "# Crea un DataFrame con la columna \"hora\" para contar\n",
    "d_true = pd.DataFrame(hora)\n",
    "\n",
    "# Filtra las filas donde la columna \"hora\" es igual a True (es decir, cumple con la condición)\n",
    "df = d_true[d_true['Hora de la transacción'] == True]\n",
    "\n",
    "# Cuenta cuántas filas cumplen con la condición, que corresponde a la cantidad de retiros en ese período\n",
    "cantidad_retiros_en_madrugada = df.shape[0]\n",
    "\n",
    "print(f\"La cantidad de retiros entre las 2:00 AM y las 2:59 AM es: {cantidad_retiros_en_madrugada}\")\n"
   ]
  },
  {
   "cell_type": "code",
   "execution_count": 47,
   "metadata": {},
   "outputs": [
    {
     "name": "stdout",
     "output_type": "stream",
     "text": [
      "La cantidad de cajeros que cumplen con los criterios es: 53\n"
     ]
    },
    {
     "name": "stderr",
     "output_type": "stream",
     "text": [
      "C:\\Users\\juana\\AppData\\Local\\Temp\\ipykernel_12240\\4278987876.py:10: SettingWithCopyWarning: \n",
      "A value is trying to be set on a copy of a slice from a DataFrame.\n",
      "Try using .loc[row_indexer,col_indexer] = value instead\n",
      "\n",
      "See the caveats in the documentation: https://pandas.pydata.org/pandas-docs/stable/user_guide/indexing.html#returning-a-view-versus-a-copy\n",
      "  cajeros_filtrados.loc[:, 'DiasReabastecibles'] = cajeros_filtrados.apply(contar_dias_semana, axis=1).copy()\n"
     ]
    }
   ],
   "source": [
    "# Filtra los cajeros que no tienen turno noche (Turno noche = 0)\n",
    "cajeros_filtrados = datos_cajeros[datos_cajeros['Turno noche'] == 0]\n",
    "\n",
    "# Define una función para contar los días a la semana que pueden ser reabastecidos\n",
    "def contar_dias_semana(row):\n",
    "    # Suma los valores de las columnas Lunes a Domingo (1 si es reabastecible, 0 si no lo es)\n",
    "    return sum(row['Lunes':'Domingo'])\n",
    "\n",
    "# Aplica la función a cada fila y crea una nueva columna \"DiasReabastecibles\"\n",
    "cajeros_filtrados.loc[:, 'DiasReabastecibles'] = cajeros_filtrados.apply(contar_dias_semana, axis=1).copy()\n",
    "\n",
    "\n",
    "# Filtra los cajeros que pueden ser reabastecidos al menos 4 días a la semana y al menos un día en fin de semana\n",
    "cajeros_seleccionados = cajeros_filtrados[\n",
    "    (cajeros_filtrados['DiasReabastecibles'] >= 4) & \n",
    "    ((cajeros_filtrados['Sábado'] == 1) | (cajeros_filtrados['Domingo'] == 1))\n",
    "]\n",
    "\n",
    "# Cuenta cuántos cajeros cumplen con los criterios\n",
    "cantidad_cajeros_seleccionados = len(cajeros_seleccionados)\n",
    "\n",
    "print(f\"La cantidad de cajeros que cumplen con los criterios es: {cantidad_cajeros_seleccionados}\")\n",
    "\n"
   ]
  },
  {
   "cell_type": "code",
   "execution_count": 49,
   "metadata": {},
   "outputs": [
    {
     "name": "stdout",
     "output_type": "stream",
     "text": [
      "La cantidad de cajeros que pueden ser reabastecidos al menos 4 días a la semana es: 53\n"
     ]
    }
   ],
   "source": [
    "# Filtra los cajeros que tienen al menos 4 días a la semana\n",
    "cajeros_4_dias_o_mas = cajeros_filtrados[cajeros_filtrados['DiasReabastecibles'] >= 4]\n",
    "\n",
    "# Cuenta cuántos cajeros cumplen con la condición\n",
    "cantidad_cajeros_4_dias_o_mas = len(cajeros_4_dias_o_mas)\n",
    "\n",
    "print(\"La cantidad de cajeros que pueden ser reabastecidos al menos 4 días a la semana es:\", cantidad_cajeros_4_dias_o_mas)\n"
   ]
  },
  {
   "cell_type": "code",
   "execution_count": 51,
   "metadata": {},
   "outputs": [
    {
     "ename": "AttributeError",
     "evalue": "Can only use .str accessor with string values!",
     "output_type": "error",
     "traceback": [
      "\u001b[1;31m---------------------------------------------------------------------------\u001b[0m",
      "\u001b[1;31mAttributeError\u001b[0m                            Traceback (most recent call last)",
      "\u001b[1;32mc:\\Users\\juana\\Desktop\\Cursos Python\\ChPM5\\CP-M5\\M5.ipynb Cell 26\u001b[0m line \u001b[0;36m2\n\u001b[0;32m      <a href='vscode-notebook-cell:/c%3A/Users/juana/Desktop/Cursos%20Python/ChPM5/CP-M5/M5.ipynb#X45sZmlsZQ%3D%3D?line=0'>1</a>\u001b[0m \u001b[39m# Convertir la columna \"Monto\" al formato numérico adecuado (reemplazando comas por puntos)\u001b[39;00m\n\u001b[1;32m----> <a href='vscode-notebook-cell:/c%3A/Users/juana/Desktop/Cursos%20Python/ChPM5/CP-M5/M5.ipynb#X45sZmlsZQ%3D%3D?line=1'>2</a>\u001b[0m retiros_cajero_214[\u001b[39m'\u001b[39m\u001b[39mMonto\u001b[39m\u001b[39m'\u001b[39m] \u001b[39m=\u001b[39m retiros_cajero_214[\u001b[39m'\u001b[39;49m\u001b[39mMonto\u001b[39;49m\u001b[39m'\u001b[39;49m]\u001b[39m.\u001b[39;49mstr\u001b[39m.\u001b[39mreplace(\u001b[39m'\u001b[39m\u001b[39m,\u001b[39m\u001b[39m'\u001b[39m, \u001b[39m'\u001b[39m\u001b[39m.\u001b[39m\u001b[39m'\u001b[39m)\u001b[39m.\u001b[39mastype(\u001b[39mfloat\u001b[39m)\n\u001b[0;32m      <a href='vscode-notebook-cell:/c%3A/Users/juana/Desktop/Cursos%20Python/ChPM5/CP-M5/M5.ipynb#X45sZmlsZQ%3D%3D?line=3'>4</a>\u001b[0m \u001b[39m# Calcular el total de dinero retirado del cajero 214\u001b[39;00m\n\u001b[0;32m      <a href='vscode-notebook-cell:/c%3A/Users/juana/Desktop/Cursos%20Python/ChPM5/CP-M5/M5.ipynb#X45sZmlsZQ%3D%3D?line=4'>5</a>\u001b[0m total_retirado_cajero_214 \u001b[39m=\u001b[39m retiros_cajero_214[\u001b[39m'\u001b[39m\u001b[39mMonto\u001b[39m\u001b[39m'\u001b[39m]\u001b[39m.\u001b[39msum()\n",
      "File \u001b[1;32m~\\AppData\\Local\\Packages\\PythonSoftwareFoundation.Python.3.11_qbz5n2kfra8p0\\LocalCache\\local-packages\\Python311\\site-packages\\pandas\\core\\generic.py:5989\u001b[0m, in \u001b[0;36mNDFrame.__getattr__\u001b[1;34m(self, name)\u001b[0m\n\u001b[0;32m   5982\u001b[0m \u001b[39mif\u001b[39;00m (\n\u001b[0;32m   5983\u001b[0m     name \u001b[39mnot\u001b[39;00m \u001b[39min\u001b[39;00m \u001b[39mself\u001b[39m\u001b[39m.\u001b[39m_internal_names_set\n\u001b[0;32m   5984\u001b[0m     \u001b[39mand\u001b[39;00m name \u001b[39mnot\u001b[39;00m \u001b[39min\u001b[39;00m \u001b[39mself\u001b[39m\u001b[39m.\u001b[39m_metadata\n\u001b[0;32m   5985\u001b[0m     \u001b[39mand\u001b[39;00m name \u001b[39mnot\u001b[39;00m \u001b[39min\u001b[39;00m \u001b[39mself\u001b[39m\u001b[39m.\u001b[39m_accessors\n\u001b[0;32m   5986\u001b[0m     \u001b[39mand\u001b[39;00m \u001b[39mself\u001b[39m\u001b[39m.\u001b[39m_info_axis\u001b[39m.\u001b[39m_can_hold_identifiers_and_holds_name(name)\n\u001b[0;32m   5987\u001b[0m ):\n\u001b[0;32m   5988\u001b[0m     \u001b[39mreturn\u001b[39;00m \u001b[39mself\u001b[39m[name]\n\u001b[1;32m-> 5989\u001b[0m \u001b[39mreturn\u001b[39;00m \u001b[39mobject\u001b[39;49m\u001b[39m.\u001b[39;49m\u001b[39m__getattribute__\u001b[39;49m(\u001b[39mself\u001b[39;49m, name)\n",
      "File \u001b[1;32m~\\AppData\\Local\\Packages\\PythonSoftwareFoundation.Python.3.11_qbz5n2kfra8p0\\LocalCache\\local-packages\\Python311\\site-packages\\pandas\\core\\accessor.py:224\u001b[0m, in \u001b[0;36mCachedAccessor.__get__\u001b[1;34m(self, obj, cls)\u001b[0m\n\u001b[0;32m    221\u001b[0m \u001b[39mif\u001b[39;00m obj \u001b[39mis\u001b[39;00m \u001b[39mNone\u001b[39;00m:\n\u001b[0;32m    222\u001b[0m     \u001b[39m# we're accessing the attribute of the class, i.e., Dataset.geo\u001b[39;00m\n\u001b[0;32m    223\u001b[0m     \u001b[39mreturn\u001b[39;00m \u001b[39mself\u001b[39m\u001b[39m.\u001b[39m_accessor\n\u001b[1;32m--> 224\u001b[0m accessor_obj \u001b[39m=\u001b[39m \u001b[39mself\u001b[39;49m\u001b[39m.\u001b[39;49m_accessor(obj)\n\u001b[0;32m    225\u001b[0m \u001b[39m# Replace the property with the accessor object. Inspired by:\u001b[39;00m\n\u001b[0;32m    226\u001b[0m \u001b[39m# https://www.pydanny.com/cached-property.html\u001b[39;00m\n\u001b[0;32m    227\u001b[0m \u001b[39m# We need to use object.__setattr__ because we overwrite __setattr__ on\u001b[39;00m\n\u001b[0;32m    228\u001b[0m \u001b[39m# NDFrame\u001b[39;00m\n\u001b[0;32m    229\u001b[0m \u001b[39mobject\u001b[39m\u001b[39m.\u001b[39m\u001b[39m__setattr__\u001b[39m(obj, \u001b[39mself\u001b[39m\u001b[39m.\u001b[39m_name, accessor_obj)\n",
      "File \u001b[1;32m~\\AppData\\Local\\Packages\\PythonSoftwareFoundation.Python.3.11_qbz5n2kfra8p0\\LocalCache\\local-packages\\Python311\\site-packages\\pandas\\core\\strings\\accessor.py:181\u001b[0m, in \u001b[0;36mStringMethods.__init__\u001b[1;34m(self, data)\u001b[0m\n\u001b[0;32m    178\u001b[0m \u001b[39mdef\u001b[39;00m \u001b[39m__init__\u001b[39m(\u001b[39mself\u001b[39m, data) \u001b[39m-\u001b[39m\u001b[39m>\u001b[39m \u001b[39mNone\u001b[39;00m:\n\u001b[0;32m    179\u001b[0m     \u001b[39mfrom\u001b[39;00m \u001b[39mpandas\u001b[39;00m\u001b[39m.\u001b[39;00m\u001b[39mcore\u001b[39;00m\u001b[39m.\u001b[39;00m\u001b[39marrays\u001b[39;00m\u001b[39m.\u001b[39;00m\u001b[39mstring_\u001b[39;00m \u001b[39mimport\u001b[39;00m StringDtype\n\u001b[1;32m--> 181\u001b[0m     \u001b[39mself\u001b[39m\u001b[39m.\u001b[39m_inferred_dtype \u001b[39m=\u001b[39m \u001b[39mself\u001b[39;49m\u001b[39m.\u001b[39;49m_validate(data)\n\u001b[0;32m    182\u001b[0m     \u001b[39mself\u001b[39m\u001b[39m.\u001b[39m_is_categorical \u001b[39m=\u001b[39m is_categorical_dtype(data\u001b[39m.\u001b[39mdtype)\n\u001b[0;32m    183\u001b[0m     \u001b[39mself\u001b[39m\u001b[39m.\u001b[39m_is_string \u001b[39m=\u001b[39m \u001b[39misinstance\u001b[39m(data\u001b[39m.\u001b[39mdtype, StringDtype)\n",
      "File \u001b[1;32m~\\AppData\\Local\\Packages\\PythonSoftwareFoundation.Python.3.11_qbz5n2kfra8p0\\LocalCache\\local-packages\\Python311\\site-packages\\pandas\\core\\strings\\accessor.py:235\u001b[0m, in \u001b[0;36mStringMethods._validate\u001b[1;34m(data)\u001b[0m\n\u001b[0;32m    232\u001b[0m inferred_dtype \u001b[39m=\u001b[39m lib\u001b[39m.\u001b[39minfer_dtype(values, skipna\u001b[39m=\u001b[39m\u001b[39mTrue\u001b[39;00m)\n\u001b[0;32m    234\u001b[0m \u001b[39mif\u001b[39;00m inferred_dtype \u001b[39mnot\u001b[39;00m \u001b[39min\u001b[39;00m allowed_types:\n\u001b[1;32m--> 235\u001b[0m     \u001b[39mraise\u001b[39;00m \u001b[39mAttributeError\u001b[39;00m(\u001b[39m\"\u001b[39m\u001b[39mCan only use .str accessor with string values!\u001b[39m\u001b[39m\"\u001b[39m)\n\u001b[0;32m    236\u001b[0m \u001b[39mreturn\u001b[39;00m inferred_dtype\n",
      "\u001b[1;31mAttributeError\u001b[0m: Can only use .str accessor with string values!"
     ]
    }
   ],
   "source": [
    "# Convertir la columna \"Monto\" al formato numérico adecuado (reemplazando comas por puntos)\n",
    "retiros_cajero_214['Monto'] = retiros_cajero_214['Monto'].str.replace(',', '.').astype(float)\n",
    "\n",
    "# Calcular el total de dinero retirado del cajero 214\n",
    "total_retirado_cajero_214 = retiros_cajero_214['Monto'].sum()\n",
    "\n",
    "print(f\"El total de dinero retirado del cajero 214 es aproximadamente: ${total_retirado_cajero_214:.2f}\")\n",
    "\n"
   ]
  },
  {
   "cell_type": "code",
   "execution_count": null,
   "metadata": {},
   "outputs": [],
   "source": []
  },
  {
   "cell_type": "code",
   "execution_count": null,
   "metadata": {},
   "outputs": [],
   "source": []
  },
  {
   "cell_type": "code",
   "execution_count": 22,
   "metadata": {},
   "outputs": [
    {
     "name": "stdout",
     "output_type": "stream",
     "text": [
      "El total de dinero retirado del cajero 214 es aproximadamente: $2072.49\n"
     ]
    }
   ],
   "source": [
    "#import pandas as pd\n",
    "#18) \n",
    "# Carga el archivo Excel en un DataFrame\n",
    "#ruta_archivo = r'C:\\Users\\juana\\Desktop\\Cursos Python\\ChPM5\\Cajeros_automaticosBD.xlsx'\n",
    "#retiros = pd.read_excel(ruta_archivo, sheet_name='Retiros')\n",
    "\n",
    "# Filtra las filas correspondientes al cajero 214\n",
    "retiros_cajero_214 = retiros[retiros['Cajero'] == 'Cajero 214']\n",
    "\n",
    "# Calcula el total de dinero retirado del cajero 214\n",
    "total_retirado_cajero_214 = retiros_cajero_214['Monto'].sum()\n",
    "\n",
    "print(f\"El total de dinero retirado del cajero 214 es aproximadamente: ${total_retirado_cajero_214:.2f}\")\n"
   ]
  },
  {
   "cell_type": "code",
   "execution_count": 23,
   "metadata": {},
   "outputs": [
    {
     "name": "stdout",
     "output_type": "stream",
     "text": [
      "La cantidad de cajeros rentables es: 103\n"
     ]
    }
   ],
   "source": [
    "#19)\n",
    "# Agrupa los datos por el cajero y suma los montos\n",
    "total_retirado_por_cajero = retiros.groupby('Cajero')['Monto'].sum().reset_index()\n",
    "\n",
    "# Filtra los cajeros rentables (total > 2200)\n",
    "cajeros_rentables = total_retirado_por_cajero[total_retirado_por_cajero['Monto'] > 2200]\n",
    "\n",
    "# Cuenta cuántos cajeros son rentables\n",
    "cantidad_cajeros_rentables = len(cajeros_rentables)\n",
    "\n",
    "print(f\"La cantidad de cajeros rentables es: {cantidad_cajeros_rentables}\")\n"
   ]
  },
  {
   "cell_type": "code",
   "execution_count": 24,
   "metadata": {},
   "outputs": [
    {
     "name": "stdout",
     "output_type": "stream",
     "text": [
      "La cantidad de retiros entre las 2:00 AM y las 2:59 AM es: 3775\n"
     ]
    }
   ],
   "source": [
    "\n",
    "# Define el rango de tiempo (2:00 AM a 2:59 AM)\n",
    "hora_inicio = '2:00'\n",
    "hora_fin = '2:59'\n",
    "\n",
    "# Filtra las filas que están dentro del rango de tiempo\n",
    "retiros_en_madrugada = retiros[\n",
    "    (retiros['Hora de la transacción'] >= hora_inicio) &\n",
    "    (retiros['Hora de la transacción'] <= hora_fin)\n",
    "]\n",
    "\n",
    "# Cuenta cuántos retiros se hicieron en ese período\n",
    "cantidad_retiros_en_madrugada = len(retiros_en_madrugada)\n",
    "\n",
    "print(f\"La cantidad de retiros entre las 2:00 AM y las 2:59 AM es: {cantidad_retiros_en_madrugada}\")\n"
   ]
  }
 ],
 "metadata": {
  "kernelspec": {
   "display_name": "Python 3",
   "language": "python",
   "name": "python3"
  },
  "language_info": {
   "codemirror_mode": {
    "name": "ipython",
    "version": 3
   },
   "file_extension": ".py",
   "mimetype": "text/x-python",
   "name": "python",
   "nbconvert_exporter": "python",
   "pygments_lexer": "ipython3",
   "version": "3.11.6"
  },
  "orig_nbformat": 4
 },
 "nbformat": 4,
 "nbformat_minor": 2
}
