{
 "cells": [
  {
<<<<<<< HEAD
   "cell_type": "markdown",
   "metadata": {},
   "source": [
    "1)\n",
    "a) Análisis Descriptivo: \n",
    "- Resumen estadístico de las ventas, como la media, la mediana y la desviación estándar.\n",
    "- Segmentación de clientes en función de su historial de compras.\n",
    "- Porcentaje de clientes que realizaron compras.\n",
    "- Tipo de productos que compran los clientes.\n",
    "- Identificación de productos más vendidos y productos con bajo rendimiento.\n",
    "\n",
    "b) Dashboards (Gráficos):\n",
    "- Cantidad de clientes.\n",
    "- Cantidad de ventas.\n",
    "- Cantidad de productos.\n",
    "- Promedio de precio por ventas.\n",
    "- Promedio de productos vendidos por clientes.\n",
    "- Cantidad de Cientes según su ubicación geográfica.\n",
    "- Cantidad de ventas por categoría de productos.\n",
    "- Panel de control de inventario que muestra niveles de stock en tiempo real.\n",
    "\n",
    "c) Análisis Predictivo:\n",
    "- Evaluar estacionalidad de las ventas en el tiempo.\n",
    "- Limpieza y preparación de datos, incluyendo valores faltantes y la normalización de datos.\n",
    "- Desarrollo de modelos para predecir la demanda futura.\n",
    "- Implementación de un sistema de alertas que notifique a los encargados de inventario sobre posibles problemas de stock.\n",
    "- Generación de pronósticos a corto y largo plazo para facilitar la planificación.\n",
    "\n",
    "d) Análisis Prescriptivo:\n",
    "- Recopilación de datos de comportamiento de compra de clientes, como historiales de compra.\n",
    "- Utilización de Machine Learning para analizar patrones de compra y preferencias del cliente.\n",
    "- Medición del impacto de las recomendaciones en las ventas y la satisfacción del cliente.\n"
=======
<<<<<<< HEAD
   "cell_type": "markdown",
   "metadata": {},
   "source": [
    "## Notas de cristian castro"
>>>>>>> 0366d7215ddf15026bcd9175b9a884b975f803c1
   ]
  },
  {
   "cell_type": "markdown",
   "metadata": {},
   "source": [
<<<<<<< HEAD
    "2)\n",
    "a)Velocidad de frenado promedio de 5 modelos distintos de vehículos:\n",
    "Gráfico de columnas porque a través de las mismas se pueden comprar los modelos distintos.\n",
    "b)Costo de una llamada por segundos:\n",
    "Gráfico de líneas porque se posee un dato contínuo.\n",
    "c)El recorrido del equipo de ventas de una distribuidora con 4 paradas y las sumas vendidas en cada una:\n",
    "Gráfico de Mapa Georeferenciado debido a que se poseen datos de latitud y longitud y se pueden referenciar las paradas.\n",
    "d)Cantidad de edificios y casas que conforman un barrio:\n",
    "Gráfico circular debido a que se quiere representar parte de una totalidad o una composición del todo.\n"
   ]
<<<<<<< HEAD
  },
  {
   "cell_type": "markdown",
   "metadata": {},
   "source": [
    "1.\tDesde la gerencia de ventas nos comentan que es necesario aumentar el volumen de facturación y cobertura de regiones ( tener clientes en la mayor cantidad posible de zonas) como también evitar la pérdida de clientes, hoy por hoy se manejan con un Excel que alguien armo en algún momento, pero no confían en esa data para seguir este nuevo objetivo, de manera tal que no se conoce realmente el estado de situación actual. Por lo tanto como departamento de data analytics tenemos que presentarles una propuesta basadas en datos para acompañar este proceso de negocio.\n",
    "- \tEn base al modelo de datos utilizado en M3  generar una un propuesta analítico de cada tipo según lo visto en clase:\n",
    "\n",
    "- a) Descriptivo \n",
    "- b) Dashboard\n",
    "- c) Predictivo\n",
    "- d) Prescriptivo"
   ]
  },
  {
   "cell_type": "markdown",
   "metadata": {},
   "source": [
    "## Solucion\n",
    "\n",
    "- Descriptivo : Entender la data, clientes perdidos, zona covertura, que productos tengo covertura\n",
    "- Dashboard : Conclusiones en el analisis descriptivo\n",
    "- Predictivo : Armar un modelo para estimar cuales clientes no vuelven a comprar y si es posible el porque\n",
    "- Prescriptivo : Que debo realizar para solucionar las situaciones anteriores.\n"
   ]
  }
 ],
 "metadata": {
  "kernelspec": {
   "display_name": "Python 3.10.11 64-bit (microsoft store)",
   "language": "python",
   "name": "python3"
  },
  "language_info": {
   "name": "python",
   "version": "3.10.11"
  },
  "orig_nbformat": 4,
  "vscode": {
   "interpreter": {
    "hash": "23f823caeccb1684f6bd50492b68bb5eab208de0408f39b2457c6a38c0e8e818"
   }
=======
  },
  {
   "cell_type": "markdown",
   "metadata": {},
   "source": [
    "3)\n",
    "a) ¿Cuánto tiempo ha estado andando?\n",
    "Estuvo andando 11 min. Porque estuvo 2 min parado.\n",
    "b)¿Hasta que distancia máxima del recorrido pudo realizar?\n",
    "Realizó 80 mts.\n",
    "c)¿Ha hecho alguna parada?\n",
    "Si, hizo una parada (del min 2 al min 4)\n",
    "d)¿Que sucede luego del pico de mts recorrido?\n",
    "Empieza a retroceder y aumenta la velocidad.\n",
    "e) ¿Cuantos metros recorrio en total?\n",
    "150 mts.\n",
    "\n"
   ]
  },
  {
   "cell_type": "markdown",
   "metadata": {},
   "source": [
    "5) Se decide presentar el volumen de ventas de 5 productos correspondientes a una distribuidora de alimentos. Los productos van de A = 100 un., B = 95 un., C =90 un., D = 88 un., E = 105 un.\n",
    "\n",
    "a) ¿Que gráfico utilizaría?\n",
    "Gráfico de barras ya que permite visualizar más facilmente los distintos productos con sus cantidades correspondientes.\n",
    "b) ¿Sería correcto utilizar un gráfico de lineas? ¿Por qué?\n",
    "No sería correcto porque se necesita una representación categórica. Además de que no se posee ningun dato temporal o evolutivo, los cuales son esenciales para los gráficos de línea.\n",
    "c)¿Sería correcto utilizar un gráfico circular? ¿Por qué?\n",
    "No, debido a que hay poca diferencia entre las unidades, no se podría visualizar eficazamente cada una.\n"
   ]
  },
  {
   "cell_type": "markdown",
   "metadata": {},
   "source": [
    "5)\n",
    "a) ¿Es correcta su utilización?\n",
    "No \n",
    "b) ¿Que inconveniente presenta a la hora de reconocer patrones?\n",
    "Uno de los inconvenientes es que los los datos son muy parecidos en cuanto a los porcentajes y confunden en el reconocimiento de las categorías. Los colores tampoco ayudan mucho, los fríos y los cálidos son parecidos. \n",
    "c) ¿Qué otros tipos de gráficos utilizaría?\n",
    "Utilizaría un gráfico de barras o columnas ya que representan visualmente mucho mejor a las categorías.\n",
    "d) ¿Que tipo de tematicas estarían relacionadas a la variable presentada?\n",
    "Experiencia de productos.\n"
   ]
=======
    "## Grafica y vizualizacion \n",
    "\n",
    "- https://www.data-to-viz.com\n",
    "\n",
    "- https://datavizcatalogue.com/ES/\n",
    "\n",
    "- https://datavizproject.com\n",
    "\n",
    "- https://altair-viz.github.io/\n",
    "\n",
    "- https://plotly.com/python/"
   ]
  }
 ],
 "metadata": {
  "kernelspec": {
   "display_name": "Python 3.10.11 64-bit (microsoft store)",
   "language": "python",
   "name": "python3"
  },
  "language_info": {
   "name": "python",
   "version": "3.10.11"
  },
  "orig_nbformat": 4,
  "vscode": {
   "interpreter": {
    "hash": "23f823caeccb1684f6bd50492b68bb5eab208de0408f39b2457c6a38c0e8e818"
   }
=======
   "cell_type": "code",
   "execution_count": null,
   "metadata": {},
   "outputs": [],
   "source": []
>>>>>>> 0366d7215ddf15026bcd9175b9a884b975f803c1
  }
 ],
 "metadata": {
  "language_info": {
   "name": "python"
<<<<<<< HEAD
<<<<<<< HEAD
=======
>>>>>>> 01b760d66c5f690d599f41608585b23ff4346af0
>>>>>>> 0366d7215ddf15026bcd9175b9a884b975f803c1
=======
>>>>>>> 982d42a4b8c5c885fe490ba852a4ee10c489bf18
>>>>>>> bbe01f42edc8426ab7925a2c3c0076142b9239ff
  }
 },
 "nbformat": 4,
 "nbformat_minor": 2
}
