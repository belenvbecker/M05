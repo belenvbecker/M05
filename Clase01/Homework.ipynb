{
 "cells": [
  {
   "cell_type": "markdown",
   "metadata": {},
   "source": [
    "## Notas de cristian castro"
   ]
  },
  {
   "cell_type": "markdown",
   "metadata": {},
   "source": [
    "## Grafica y vizualizacion \n",
    "\n",
    "- https://www.data-to-viz.com\n",
    "\n",
    "- https://datavizcatalogue.com/ES/\n",
    "\n",
    "- https://datavizproject.com\n",
    "\n",
    "- https://altair-viz.github.io/\n",
    "\n",
    "- https://plotly.com/python/"
   ]
  },
  {
   "cell_type": "markdown",
   "metadata": {},
   "source": [
    "1.\tDesde la gerencia de ventas nos comentan que es necesario aumentar el volumen de facturación y cobertura de regiones ( tener clientes en la mayor cantidad posible de zonas) como también evitar la pérdida de clientes, hoy por hoy se manejan con un Excel que alguien armo en algún momento, pero no confían en esa data para seguir este nuevo objetivo, de manera tal que no se conoce realmente el estado de situación actual. Por lo tanto como departamento de data analytics tenemos que presentarles una propuesta basadas en datos para acompañar este proceso de negocio.\n",
    "- \tEn base al modelo de datos utilizado en M3  generar una un propuesta analítico de cada tipo según lo visto en clase:\n",
    "\n",
    "- a) Descriptivo \n",
    "- b) Dashboard\n",
    "- c) Predictivo\n",
    "- d) Prescriptivo"
   ]
  },
  {
   "cell_type": "markdown",
   "metadata": {},
   "source": [
    "## Solucion\n",
    "\n",
    "- Descriptivo : Entender la data, clientes perdidos, zona covertura, que productos tengo covertura\n",
    "- Dashboard : Conclusiones en el analisis descriptivo\n",
    "- Predictivo : Armar un modelo para estimar cuales clientes no vuelven a comprar y si es posible el porque\n",
    "- Prescriptivo : Que debo realizar para solucionar las situaciones anteriores.\n"
   ]
  }
 ],
 "metadata": {
  "kernelspec": {
   "display_name": "Python 3.10.11 64-bit (microsoft store)",
   "language": "python",
   "name": "python3"
  },
  "language_info": {
   "name": "python",
   "version": "3.10.11"
  },
  "orig_nbformat": 4,
  "vscode": {
   "interpreter": {
    "hash": "23f823caeccb1684f6bd50492b68bb5eab208de0408f39b2457c6a38c0e8e818"
   }
  }
 },
 "nbformat": 4,
 "nbformat_minor": 2
}
