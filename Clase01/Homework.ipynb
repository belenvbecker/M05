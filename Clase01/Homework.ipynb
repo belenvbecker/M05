{
 "cells": [
  {
   "cell_type": "markdown",
   "metadata": {},
   "source": [
    "## Notas de cristian castro"
   ]
  },
  {
   "cell_type": "markdown",
   "metadata": {},
   "source": [
    "## Grafica y vizualizacion \n",
    "\n",
    "- https://www.data-to-viz.com\n",
    "\n",
    "- https://datavizcatalogue.com/ES/\n",
    "\n",
    "- https://datavizproject.com\n",
    "\n",
    "- https://altair-viz.github.io/\n",
    "\n",
    "- https://plotly.com/python/"
   ]
  }
 ],
 "metadata": {
  "kernelspec": {
   "display_name": "Python 3.10.11 64-bit (microsoft store)",
   "language": "python",
   "name": "python3"
  },
  "language_info": {
   "name": "python",
   "version": "3.10.11"
  },
  "orig_nbformat": 4,
  "vscode": {
   "interpreter": {
    "hash": "23f823caeccb1684f6bd50492b68bb5eab208de0408f39b2457c6a38c0e8e818"
   }
  }
 },
 "nbformat": 4,
 "nbformat_minor": 2
}
